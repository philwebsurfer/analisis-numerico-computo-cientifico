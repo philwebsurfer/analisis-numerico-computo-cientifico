{
 "cells": [
  {
   "cell_type": "markdown",
   "metadata": {},
   "source": [
    "# Ejercicios de Actualización QR\n",
    "\n",
    "Clase 15\n",
    "\n",
    "_Equipo 9_"
   ]
  },
  {
   "cell_type": "code",
   "execution_count": 1,
   "metadata": {},
   "outputs": [],
   "source": [
    "import numpy as np"
   ]
  },
  {
   "cell_type": "markdown",
   "metadata": {},
   "source": [
    "Importamos datos"
   ]
  },
  {
   "cell_type": "code",
   "execution_count": 2,
   "metadata": {},
   "outputs": [
    {
     "name": "stdout",
     "output_type": "stream",
     "text": [
      "[1, 2, 3, 4, 5, 6, 7, 8, 9] , n = 9\n",
      "[1.3, 3.5, 4.2, 5.0, 7.0, 8.8, 10.1, 12.5, 13.0] , m = 9\n"
     ]
    }
   ],
   "source": [
    "x = [x_ for x_ in np.arange(1,10)]\n",
    "y = [1.3, 3.5, 4.2, 5.0, 7.0, 8.8, 10.1, 12.5, 13.0]\n",
    "n, m = len(x), len(y)\n",
    "print(x, \", n =\", n)\n",
    "print(y, \", m =\", m)"
   ]
  },
  {
   "cell_type": "markdown",
   "metadata": {},
   "source": [
    "Creamos la matriz A"
   ]
  },
  {
   "cell_type": "code",
   "execution_count": 3,
   "metadata": {},
   "outputs": [
    {
     "data": {
      "text/plain": [
       "matrix([[1, 1],\n",
       "        [1, 2],\n",
       "        [1, 3],\n",
       "        [1, 4],\n",
       "        [1, 5],\n",
       "        [1, 6],\n",
       "        [1, 7],\n",
       "        [1, 8],\n",
       "        [1, 9]])"
      ]
     },
     "execution_count": 3,
     "metadata": {},
     "output_type": "execute_result"
    }
   ],
   "source": [
    "A = np.matrix([np.repeat(1,9), \n",
    "               x\n",
    "              ]).transpose()\n",
    "A"
   ]
  },
  {
   "cell_type": "markdown",
   "metadata": {},
   "source": [
    "Descomposición vía librería"
   ]
  },
  {
   "cell_type": "code",
   "execution_count": 4,
   "metadata": {},
   "outputs": [
    {
     "name": "stdout",
     "output_type": "stream",
     "text": [
      "q = [[-0.33 -0.52]\n",
      " [-0.33 -0.39]\n",
      " [-0.33 -0.26]\n",
      " [-0.33 -0.13]\n",
      " [-0.33  0.  ]\n",
      " [-0.33  0.13]\n",
      " [-0.33  0.26]\n",
      " [-0.33  0.39]\n",
      " [-0.33  0.52]] \n",
      "r = [[ -3.   -15.  ]\n",
      " [  0.     7.75]]\n"
     ]
    }
   ],
   "source": [
    "q, r = np.linalg.qr(A)\n",
    "print(\"q =\", np.round(q, 2), \"\\nr =\", np.round(r, 2))"
   ]
  },
  {
   "cell_type": "markdown",
   "metadata": {},
   "source": [
    "Multiplicamos el $Q^T y$ para obtener la $Q_\\beta$ "
   ]
  },
  {
   "cell_type": "code",
   "execution_count": 5,
   "metadata": {},
   "outputs": [
    {
     "data": {
      "text/plain": [
       "matrix([[-21.8       ,  11.54149037]])"
      ]
     },
     "execution_count": 5,
     "metadata": {},
     "output_type": "execute_result"
    }
   ],
   "source": [
    "Q_β = q.T@y\n",
    "Q_β"
   ]
  },
  {
   "cell_type": "markdown",
   "metadata": {},
   "source": [
    "### Actualización\n",
    "\n",
    "Agregamos el valor $x = 10, y = 15.6$ en otra A que denominamos `A_`"
   ]
  },
  {
   "cell_type": "code",
   "execution_count": 6,
   "metadata": {},
   "outputs": [
    {
     "data": {
      "text/plain": [
       "matrix([[ -3.        , -15.        , -21.8       ],\n",
       "        [  0.        ,   7.74596669,  11.54149037],\n",
       "        [  1.        ,  10.        ,  15.6       ]])"
      ]
     },
     "execution_count": 6,
     "metadata": {},
     "output_type": "execute_result"
    }
   ],
   "source": [
    "A_ = r.copy()\n",
    "A_ = np.append(A_, Q_β.T, axis=1)\n",
    "#nuevos valores\n",
    "A_ = np.append(A_, np.matrix([1, 10, 15.6]), axis=0)\n",
    "A_"
   ]
  },
  {
   "cell_type": "markdown",
   "metadata": {},
   "source": [
    "### Rotación\n"
   ]
  },
  {
   "cell_type": "markdown",
   "metadata": {},
   "source": [
    "#### Rotación 1\n",
    "\n",
    "Normas y funciones trigonométricas para la primera columna"
   ]
  },
  {
   "cell_type": "code",
   "execution_count": 7,
   "metadata": {},
   "outputs": [
    {
     "data": {
      "text/plain": [
       "(0.31622776601683794, -0.9486832980505138)"
      ]
     },
     "execution_count": 7,
     "metadata": {},
     "output_type": "execute_result"
    }
   ],
   "source": [
    "norma = np.linalg.norm([A_[0,0], A_[2,0]], ord=2) #norma euclediana(A(1,1), A(3,1))\n",
    "cos_θ = A_[0,0]/ norma\n",
    "sen_θ = A_[2,0] / norma\n",
    "sen_θ, cos_θ"
   ]
  },
  {
   "cell_type": "markdown",
   "metadata": {},
   "source": [
    "Matriz de rotación"
   ]
  },
  {
   "cell_type": "code",
   "execution_count": 8,
   "metadata": {},
   "outputs": [
    {
     "data": {
      "text/plain": [
       "matrix([[-0.9486833 ,  0.        ,  0.31622777],\n",
       "        [ 0.        ,  1.        ,  0.        ],\n",
       "        [-0.31622777,  0.        , -0.9486833 ]])"
      ]
     },
     "execution_count": 8,
     "metadata": {},
     "output_type": "execute_result"
    }
   ],
   "source": [
    "# rot = [cos_teta sen_teta;-sen_teta cos_teta]\n",
    "rot = np.matrix([[cos_θ, 0, sen_θ], [0,1,0], [-sen_θ, 0, cos_θ]])\n",
    "rot"
   ]
  },
  {
   "cell_type": "markdown",
   "metadata": {},
   "source": [
    "Matriz con la primera rotación"
   ]
  },
  {
   "cell_type": "code",
   "execution_count": 9,
   "metadata": {},
   "outputs": [
    {
     "data": {
      "text/plain": [
       "matrix([[ 3.16227766, 17.39252713, 25.61444905],\n",
       "        [ 0.        ,  7.74596669, 11.54149037],\n",
       "        [ 0.        , -4.74341649, -7.90569415]])"
      ]
     },
     "execution_count": 9,
     "metadata": {},
     "output_type": "execute_result"
    }
   ],
   "source": [
    "A_ = rot@A_\n",
    "A_"
   ]
  },
  {
   "cell_type": "markdown",
   "metadata": {},
   "source": [
    "#### Rotación 2\n",
    "\n",
    "Normas y funciones trigonométricas"
   ]
  },
  {
   "cell_type": "code",
   "execution_count": 10,
   "metadata": {},
   "outputs": [
    {
     "data": {
      "text/plain": [
       "(0.8528028654224418, -0.5222329678670934)"
      ]
     },
     "execution_count": 10,
     "metadata": {},
     "output_type": "execute_result"
    }
   ],
   "source": [
    "norma = np.linalg.norm([A_[1,1], A_[2,1]], ord=2) #norma euclediana(A(2,2), A(3,2))\n",
    "cos_θ = A_[1,1]/ norma\n",
    "sen_θ = A_[2,1] / norma\n",
    "cos_θ, sen_θ"
   ]
  },
  {
   "cell_type": "markdown",
   "metadata": {},
   "source": [
    "Matriz de rotación"
   ]
  },
  {
   "cell_type": "code",
   "execution_count": 11,
   "metadata": {},
   "outputs": [
    {
     "data": {
      "text/plain": [
       "matrix([[ 1.        ,  0.        ,  0.        ],\n",
       "        [ 0.        ,  0.85280287, -0.52223297],\n",
       "        [ 0.        ,  0.52223297,  0.85280287]])"
      ]
     },
     "execution_count": 11,
     "metadata": {},
     "output_type": "execute_result"
    }
   ],
   "source": [
    "# rot = [cos_teta sen_teta;-sen_teta cos_teta]\n",
    "rot = np.matrix([[1, 0, 0], [0, cos_θ, sen_θ], [0, -sen_θ, cos_θ]])\n",
    "rot"
   ]
  },
  {
   "cell_type": "markdown",
   "metadata": {},
   "source": [
    "Matriz con la segunda rotación"
   ]
  },
  {
   "cell_type": "code",
   "execution_count": 12,
   "metadata": {},
   "outputs": [
    {
     "data": {
      "text/plain": [
       "array([[ 3.16, 17.39, 25.61],\n",
       "       [ 0.  ,  9.08, 13.97],\n",
       "       [ 0.  , -0.  , -0.71]])"
      ]
     },
     "execution_count": 12,
     "metadata": {},
     "output_type": "execute_result"
    }
   ],
   "source": [
    "A_ = rot@A_\n",
    "np.round(A_, 2)"
   ]
  },
  {
   "cell_type": "markdown",
   "metadata": {},
   "source": [
    "### Betas"
   ]
  },
  {
   "cell_type": "code",
   "execution_count": 13,
   "metadata": {},
   "outputs": [
    {
     "name": "stdout",
     "output_type": "stream",
     "text": [
      "β_0 = -0.36 \n",
      "β_1 = 1.538181818181818\n"
     ]
    }
   ],
   "source": [
    "β_1 = A_[1,2] / A_[1,1]\n",
    "β_0 = (A_[0,2] - A_[0,1] * β_1 ) / A_[0,0] \n",
    "print(\"β_0 =\", β_0, \"\\nβ_1 =\", β_1)"
   ]
  },
  {
   "cell_type": "markdown",
   "metadata": {},
   "source": [
    "## Comprobación"
   ]
  },
  {
   "cell_type": "markdown",
   "metadata": {},
   "source": [
    "Matriz A con los nuevos valores"
   ]
  },
  {
   "cell_type": "code",
   "execution_count": 14,
   "metadata": {},
   "outputs": [
    {
     "data": {
      "text/plain": [
       "matrix([[ 1,  1],\n",
       "        [ 1,  2],\n",
       "        [ 1,  3],\n",
       "        [ 1,  4],\n",
       "        [ 1,  5],\n",
       "        [ 1,  6],\n",
       "        [ 1,  7],\n",
       "        [ 1,  8],\n",
       "        [ 1,  9],\n",
       "        [ 1, 10]])"
      ]
     },
     "execution_count": 14,
     "metadata": {},
     "output_type": "execute_result"
    }
   ],
   "source": [
    "A = np.append(A, np.matrix([1,10]), axis=0)\n",
    "A"
   ]
  },
  {
   "cell_type": "markdown",
   "metadata": {},
   "source": [
    "y con el nuevo valor"
   ]
  },
  {
   "cell_type": "code",
   "execution_count": 15,
   "metadata": {},
   "outputs": [
    {
     "data": {
      "text/plain": [
       "[1.3, 3.5, 4.2, 5.0, 7.0, 8.8, 10.1, 12.5, 13.0, 15.6]"
      ]
     },
     "execution_count": 15,
     "metadata": {},
     "output_type": "execute_result"
    }
   ],
   "source": [
    "y.append(15.6)\n",
    "y"
   ]
  },
  {
   "cell_type": "code",
   "execution_count": 16,
   "metadata": {},
   "outputs": [
    {
     "data": {
      "text/plain": [
       "matrix([[ 1,  1],\n",
       "        [ 1,  2],\n",
       "        [ 1,  3],\n",
       "        [ 1,  4],\n",
       "        [ 1,  5],\n",
       "        [ 1,  6],\n",
       "        [ 1,  7],\n",
       "        [ 1,  8],\n",
       "        [ 1,  9],\n",
       "        [ 1, 10]])"
      ]
     },
     "execution_count": 16,
     "metadata": {},
     "output_type": "execute_result"
    }
   ],
   "source": [
    "A"
   ]
  },
  {
   "cell_type": "markdown",
   "metadata": {},
   "source": [
    "Obtenemos las $\\beta$s y vemos si coinciden al realizarla manualmente"
   ]
  },
  {
   "cell_type": "code",
   "execution_count": 17,
   "metadata": {},
   "outputs": [
    {
     "data": {
      "text/plain": [
       "matrix([[-0.36      ,  1.53818182]])"
      ]
     },
     "execution_count": 17,
     "metadata": {},
     "output_type": "execute_result"
    }
   ],
   "source": [
    "q, r = np.linalg.qr(A)\n",
    "\n",
    "np.linalg.inv(r).dot(q.T).dot(y)"
   ]
  },
  {
   "cell_type": "markdown",
   "metadata": {},
   "source": [
    "Los coeficientes coinciden: $-0.36, 1.538$"
   ]
  },
  {
   "cell_type": "markdown",
   "metadata": {},
   "source": [
    "## Bibliografía\n",
    "\n",
    "* Notas tomadas en la Clase 15\n",
    "* [Temas vistos en la Clase 15](https://github.com/ITAM-DS/analisis-numerico-computo-cientifico/tree/mno-2019-1#clase-15)\n",
    "* [Soluciones a ejercicios de actualización vía QR para mínimos cuadrados](https://www.dropbox.com/sh/q64l09o7xpxvabe/AAA0GHNQ3X3BMTt_qaI92QWDa?dl=0)"
   ]
  }
 ],
 "metadata": {
  "kernelspec": {
   "display_name": "Python 3",
   "language": "python",
   "name": "python3"
  },
  "language_info": {
   "codemirror_mode": {
    "name": "ipython",
    "version": 3
   },
   "file_extension": ".py",
   "mimetype": "text/x-python",
   "name": "python",
   "nbconvert_exporter": "python",
   "pygments_lexer": "ipython3",
   "version": "3.6.3"
  }
 },
 "nbformat": 4,
 "nbformat_minor": 2
}
