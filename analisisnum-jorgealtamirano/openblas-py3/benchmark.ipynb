{
 "cells": [
  {
   "cell_type": "markdown",
   "metadata": {},
   "source": [
    "# Benchmarking OpenBLAS\n",
    "\n",
    "13 de Febrero 2019\n",
    "\n",
    "_Jorge III Altamirano Astorga - CU: 175904_\n",
    "\n",
    "_Eduardo Selim Martinez Mayorga - CU: 175921_\n",
    "\n",
    "_Ariel Ernesto Vallarino Maritorena - CU: 175875_\n"
   ]
  },
  {
   "cell_type": "markdown",
   "metadata": {},
   "source": [
    "## OpenBLAS\n",
    "\n",
    "Confirmamos que numpy esté ligado a una compilación de BLAS/MKL."
   ]
  },
  {
   "cell_type": "code",
   "execution_count": 1,
   "metadata": {},
   "outputs": [
    {
     "name": "stdout",
     "output_type": "stream",
     "text": [
      "mkl_info:\n",
      "    libraries = ['mkl_rt', 'pthread']\n",
      "    library_dirs = ['/opt/intel/intelpython3/lib']\n",
      "    define_macros = [('SCIPY_MKL_H', None), ('HAVE_CBLAS', None)]\n",
      "    include_dirs = ['/opt/intel/intelpython3/include']\n",
      "blas_mkl_info:\n",
      "    libraries = ['mkl_rt', 'pthread']\n",
      "    library_dirs = ['/opt/intel/intelpython3/lib']\n",
      "    define_macros = [('SCIPY_MKL_H', None), ('HAVE_CBLAS', None)]\n",
      "    include_dirs = ['/opt/intel/intelpython3/include']\n",
      "blas_opt_info:\n",
      "    libraries = ['mkl_rt', 'pthread']\n",
      "    library_dirs = ['/opt/intel/intelpython3/lib']\n",
      "    define_macros = [('SCIPY_MKL_H', None), ('HAVE_CBLAS', None)]\n",
      "    include_dirs = ['/opt/intel/intelpython3/include']\n",
      "lapack_mkl_info:\n",
      "    libraries = ['mkl_rt', 'pthread']\n",
      "    library_dirs = ['/opt/intel/intelpython3/lib']\n",
      "    define_macros = [('SCIPY_MKL_H', None), ('HAVE_CBLAS', None)]\n",
      "    include_dirs = ['/opt/intel/intelpython3/include']\n",
      "lapack_opt_info:\n",
      "    libraries = ['mkl_rt', 'pthread']\n",
      "    library_dirs = ['/opt/intel/intelpython3/lib']\n",
      "    define_macros = [('SCIPY_MKL_H', None), ('HAVE_CBLAS', None)]\n",
      "    include_dirs = ['/opt/intel/intelpython3/include']\n"
     ]
    }
   ],
   "source": [
    "import numpy as np\n",
    "np.__config__.show()"
   ]
  },
  {
   "cell_type": "markdown",
   "metadata": {},
   "source": [
    "## Ejecución de Benchmark"
   ]
  },
  {
   "cell_type": "code",
   "execution_count": 38,
   "metadata": {},
   "outputs": [
    {
     "name": "stdout",
     "output_type": "stream",
     "text": [
      "==========================================================================\n",
      "Valores de la configuracion OpenBLAS\n",
      "mkl_info:\n",
      "    libraries = ['mkl_rt', 'pthread']\n",
      "    library_dirs = ['/opt/intel/intelpython3/lib']\n",
      "    define_macros = [('SCIPY_MKL_H', None), ('HAVE_CBLAS', None)]\n",
      "    include_dirs = ['/opt/intel/intelpython3/include']\n",
      "blas_mkl_info:\n",
      "    libraries = ['mkl_rt', 'pthread']\n",
      "    library_dirs = ['/opt/intel/intelpython3/lib']\n",
      "    define_macros = [('SCIPY_MKL_H', None), ('HAVE_CBLAS', None)]\n",
      "    include_dirs = ['/opt/intel/intelpython3/include']\n",
      "blas_opt_info:\n",
      "    libraries = ['mkl_rt', 'pthread']\n",
      "    library_dirs = ['/opt/intel/intelpython3/lib']\n",
      "    define_macros = [('SCIPY_MKL_H', None), ('HAVE_CBLAS', None)]\n",
      "    include_dirs = ['/opt/intel/intelpython3/include']\n",
      "lapack_mkl_info:\n",
      "    libraries = ['mkl_rt', 'pthread']\n",
      "    library_dirs = ['/opt/intel/intelpython3/lib']\n",
      "    define_macros = [('SCIPY_MKL_H', None), ('HAVE_CBLAS', None)]\n",
      "    include_dirs = ['/opt/intel/intelpython3/include']\n",
      "lapack_opt_info:\n",
      "    libraries = ['mkl_rt', 'pthread']\n",
      "    library_dirs = ['/opt/intel/intelpython3/lib']\n",
      "    define_macros = [('SCIPY_MKL_H', None), ('HAVE_CBLAS', None)]\n",
      "    include_dirs = ['/opt/intel/intelpython3/include']\n",
      "========================================================================\n",
      "\n",
      "Producto punto de 2 matrices 4096x4096 tomo 0.20 segundos en promedio. \n",
      "Producto punto de 2 vectores de longitud 524288 tomo 0.01 ms en promedio.\n",
      "SVD de una matriz 2048x1024 tomo 0.31 segundos.\n",
      "Descomposicion de una Cholesky de una matriz 2048x2048 tomo  0.15 segundos.\n",
      "Descompisicion de valores y vectores propios de una matriz 2048x2048 tomo 3.99 segundos.\n"
     ]
    }
   ],
   "source": [
    "#!/usr/bin/env python3\n",
    "# -*- coding: UTF-8 -*-\n",
    "\n",
    "# Basado en http://stackoverflow.com/questions/11443302/compiling-numpy-with-openblas-integration\n",
    "\n",
    "import numpy as np\n",
    "from time import time\n",
    "\n",
    "print(\"==========================================================================\")\n",
    "print(\"Valores de la configuracion OpenBLAS\")\n",
    "np.__config__.show()\n",
    "print(\"========================================================================\\n\")\n",
    "\n",
    "# Establecer la semilla con fines de reproducibilidad\n",
    "np.random.seed(0)\n",
    "\n",
    "# Tamaño d ela matriz\n",
    "size = 4096\n",
    "# Declaracion de las matrices\n",
    "A, B = np.random.random((size, size)), np.random.random((size, size))\n",
    "C, D = np.random.random((size * 128,)), np.random.random((size * 128,))\n",
    "E = np.random.random((int(size / 2), int(size / 4)))\n",
    "F = np.random.random((int(size / 2), int(size / 2)))\n",
    "#Producto punto\n",
    "F = np.dot(F, F.T)\n",
    "G = np.random.random((int(size / 2), int(size / 2)))\n",
    "\n",
    "# Multiplicacion de matriz 20 veces (N) para sacar un promedio.\n",
    "N = 20\n",
    "t = time()\n",
    "for i in range(N):\n",
    "    np.dot(A, B)\n",
    "delta = time() - t\n",
    "print('Producto punto de 2 matrices %dx%d tomo %0.2f segundos en promedio. ' % (size, size, delta / N))\n",
    "del A, B\n",
    "\n",
    "# Multiplicacion de vectores 5000 Veces para sacar un promedio.\n",
    "N = 5000\n",
    "t = time()\n",
    "for i in range(N):\n",
    "    np.dot(C, D)\n",
    "delta = time() - t\n",
    "print('Producto punto de 2 vectores de longitud %d tomo %0.2f ms en promedio.' % (size * 128, 1e3 * delta / N))\n",
    "del C, D\n",
    "\n",
    "# SVD: promedio de 3.\n",
    "N = 3\n",
    "t = time()\n",
    "for i in range(N):\n",
    "    np.linalg.svd(E, full_matrices = False)\n",
    "delta = time() - t\n",
    "print(\"SVD de una matriz %dx%d tomo %0.2f segundos.\" % (size / 2, size / 4, delta / N))\n",
    "del E\n",
    "\n",
    "# Cholesky: promedio de 3.\n",
    "N = 3\n",
    "t = time()\n",
    "for i in range(N):\n",
    "    np.linalg.cholesky(F)\n",
    "delta = time() - t\n",
    "print(\"Descomposicion de una Cholesky de una matriz %dx%d tomo  %0.2f segundos.\" % (size / 2, size / 2, delta / N))\n",
    "\n",
    "# Valores y vectores propios: promedio de 3.\n",
    "t = time()\n",
    "for i in range(N):\n",
    "    np.linalg.eig(G)\n",
    "delta = time() - t\n",
    "print(\"Descompisicion de valores y vectores propios de una matriz %dx%d tomo %0.2f segundos.\" % (size / 2, size / 2, delta / N))\n",
    "\n"
   ]
  },
  {
   "cell_type": "markdown",
   "metadata": {},
   "source": [
    "## Comparación de Rendimiento\n",
    "\n",
    "Estos archivos fueron generados ejecutando el script `comp.py`. El cual genera un CSV con los valores que utilizaremos para probar y comparar rendimientos."
   ]
  },
  {
   "cell_type": "markdown",
   "metadata": {},
   "source": [
    "### Intel MKL"
   ]
  },
  {
   "cell_type": "code",
   "execution_count": 230,
   "metadata": {},
   "outputs": [
    {
     "data": {
      "text/html": [
       "<div>\n",
       "<style scoped>\n",
       "    .dataframe tbody tr th:only-of-type {\n",
       "        vertical-align: middle;\n",
       "    }\n",
       "\n",
       "    .dataframe tbody tr th {\n",
       "        vertical-align: top;\n",
       "    }\n",
       "\n",
       "    .dataframe thead th {\n",
       "        text-align: right;\n",
       "    }\n",
       "</style>\n",
       "<table border=\"1\" class=\"dataframe\">\n",
       "  <thead>\n",
       "    <tr style=\"text-align: right;\">\n",
       "      <th></th>\n",
       "      <th>BLAS</th>\n",
       "      <th>Tamaño</th>\n",
       "      <th>Operación</th>\n",
       "      <th>Iteraciones</th>\n",
       "      <th>Tiempo</th>\n",
       "    </tr>\n",
       "  </thead>\n",
       "  <tbody>\n",
       "    <tr>\n",
       "      <th>0</th>\n",
       "      <td>mkl_rt</td>\n",
       "      <td>64.0</td>\n",
       "      <td>Producto Punto de Matrices</td>\n",
       "      <td>5</td>\n",
       "      <td>0.004051</td>\n",
       "    </tr>\n",
       "    <tr>\n",
       "      <th>1</th>\n",
       "      <td>mkl_rt</td>\n",
       "      <td>128.0</td>\n",
       "      <td>Producto Punto de Matrices</td>\n",
       "      <td>5</td>\n",
       "      <td>0.000275</td>\n",
       "    </tr>\n",
       "    <tr>\n",
       "      <th>2</th>\n",
       "      <td>mkl_rt</td>\n",
       "      <td>256.0</td>\n",
       "      <td>Producto Punto de Matrices</td>\n",
       "      <td>5</td>\n",
       "      <td>0.000995</td>\n",
       "    </tr>\n",
       "    <tr>\n",
       "      <th>3</th>\n",
       "      <td>mkl_rt</td>\n",
       "      <td>512.0</td>\n",
       "      <td>Producto Punto de Matrices</td>\n",
       "      <td>5</td>\n",
       "      <td>0.001870</td>\n",
       "    </tr>\n",
       "    <tr>\n",
       "      <th>4</th>\n",
       "      <td>mkl_rt</td>\n",
       "      <td>1024.0</td>\n",
       "      <td>Producto Punto de Matrices</td>\n",
       "      <td>5</td>\n",
       "      <td>0.004534</td>\n",
       "    </tr>\n",
       "  </tbody>\n",
       "</table>\n",
       "</div>"
      ],
      "text/plain": [
       "     BLAS  Tamaño                   Operación  Iteraciones    Tiempo\n",
       "0  mkl_rt    64.0  Producto Punto de Matrices            5  0.004051\n",
       "1  mkl_rt   128.0  Producto Punto de Matrices            5  0.000275\n",
       "2  mkl_rt   256.0  Producto Punto de Matrices            5  0.000995\n",
       "3  mkl_rt   512.0  Producto Punto de Matrices            5  0.001870\n",
       "4  mkl_rt  1024.0  Producto Punto de Matrices            5  0.004534"
      ]
     },
     "execution_count": 230,
     "metadata": {},
     "output_type": "execute_result"
    }
   ],
   "source": [
    "import pandas as pd\n",
    "import numpy as np\n",
    "\n",
    "df = pd.read_csv(\"compare.mkl_rt.csv\")\n",
    "df.head()"
   ]
  },
  {
   "cell_type": "markdown",
   "metadata": {},
   "source": [
    "### OpenBLAS"
   ]
  },
  {
   "cell_type": "code",
   "execution_count": 231,
   "metadata": {},
   "outputs": [
    {
     "data": {
      "text/html": [
       "<div>\n",
       "<style scoped>\n",
       "    .dataframe tbody tr th:only-of-type {\n",
       "        vertical-align: middle;\n",
       "    }\n",
       "\n",
       "    .dataframe tbody tr th {\n",
       "        vertical-align: top;\n",
       "    }\n",
       "\n",
       "    .dataframe thead th {\n",
       "        text-align: right;\n",
       "    }\n",
       "</style>\n",
       "<table border=\"1\" class=\"dataframe\">\n",
       "  <thead>\n",
       "    <tr style=\"text-align: right;\">\n",
       "      <th></th>\n",
       "      <th>BLAS</th>\n",
       "      <th>Tamaño</th>\n",
       "      <th>Operación</th>\n",
       "      <th>Iteraciones</th>\n",
       "      <th>Tiempo</th>\n",
       "    </tr>\n",
       "  </thead>\n",
       "  <tbody>\n",
       "    <tr>\n",
       "      <th>0</th>\n",
       "      <td>openblas</td>\n",
       "      <td>64.0</td>\n",
       "      <td>Producto Punto de Matrices</td>\n",
       "      <td>5</td>\n",
       "      <td>0.000045</td>\n",
       "    </tr>\n",
       "    <tr>\n",
       "      <th>1</th>\n",
       "      <td>openblas</td>\n",
       "      <td>128.0</td>\n",
       "      <td>Producto Punto de Matrices</td>\n",
       "      <td>5</td>\n",
       "      <td>0.000107</td>\n",
       "    </tr>\n",
       "    <tr>\n",
       "      <th>2</th>\n",
       "      <td>openblas</td>\n",
       "      <td>256.0</td>\n",
       "      <td>Producto Punto de Matrices</td>\n",
       "      <td>5</td>\n",
       "      <td>0.000303</td>\n",
       "    </tr>\n",
       "  </tbody>\n",
       "</table>\n",
       "</div>"
      ],
      "text/plain": [
       "       BLAS  Tamaño                   Operación  Iteraciones    Tiempo\n",
       "0  openblas    64.0  Producto Punto de Matrices            5  0.000045\n",
       "1  openblas   128.0  Producto Punto de Matrices            5  0.000107\n",
       "2  openblas   256.0  Producto Punto de Matrices            5  0.000303"
      ]
     },
     "execution_count": 231,
     "metadata": {},
     "output_type": "execute_result"
    }
   ],
   "source": [
    "df_openblas = pd.read_csv(\"compare.openblas.csv\")\n",
    "df_openblas.head(3)"
   ]
  },
  {
   "cell_type": "markdown",
   "metadata": {},
   "source": [
    "### Atlas\n",
    "\n",
    "Aunque es marcado como f77blas significa que fue compilado con el compilador Fortran 77."
   ]
  },
  {
   "cell_type": "code",
   "execution_count": 229,
   "metadata": {},
   "outputs": [
    {
     "data": {
      "text/html": [
       "<div>\n",
       "<style scoped>\n",
       "    .dataframe tbody tr th:only-of-type {\n",
       "        vertical-align: middle;\n",
       "    }\n",
       "\n",
       "    .dataframe tbody tr th {\n",
       "        vertical-align: top;\n",
       "    }\n",
       "\n",
       "    .dataframe thead th {\n",
       "        text-align: right;\n",
       "    }\n",
       "</style>\n",
       "<table border=\"1\" class=\"dataframe\">\n",
       "  <thead>\n",
       "    <tr style=\"text-align: right;\">\n",
       "      <th></th>\n",
       "      <th>BLAS</th>\n",
       "      <th>Tamaño</th>\n",
       "      <th>Operación</th>\n",
       "      <th>Iteraciones</th>\n",
       "      <th>Tiempo</th>\n",
       "    </tr>\n",
       "  </thead>\n",
       "  <tbody>\n",
       "    <tr>\n",
       "      <th>0</th>\n",
       "      <td>f77blas</td>\n",
       "      <td>64.0</td>\n",
       "      <td>Producto Punto de Matrices</td>\n",
       "      <td>5</td>\n",
       "      <td>0.000151</td>\n",
       "    </tr>\n",
       "    <tr>\n",
       "      <th>1</th>\n",
       "      <td>f77blas</td>\n",
       "      <td>128.0</td>\n",
       "      <td>Producto Punto de Matrices</td>\n",
       "      <td>5</td>\n",
       "      <td>0.000461</td>\n",
       "    </tr>\n",
       "    <tr>\n",
       "      <th>2</th>\n",
       "      <td>f77blas</td>\n",
       "      <td>256.0</td>\n",
       "      <td>Producto Punto de Matrices</td>\n",
       "      <td>5</td>\n",
       "      <td>0.003503</td>\n",
       "    </tr>\n",
       "  </tbody>\n",
       "</table>\n",
       "</div>"
      ],
      "text/plain": [
       "      BLAS  Tamaño                   Operación  Iteraciones    Tiempo\n",
       "0  f77blas    64.0  Producto Punto de Matrices            5  0.000151\n",
       "1  f77blas   128.0  Producto Punto de Matrices            5  0.000461\n",
       "2  f77blas   256.0  Producto Punto de Matrices            5  0.003503"
      ]
     },
     "execution_count": 229,
     "metadata": {},
     "output_type": "execute_result"
    }
   ],
   "source": [
    "df_atlas = pd.read_csv(\"compare.f77blas.csv\")\n",
    "df_atlas.head(3)"
   ]
  },
  {
   "cell_type": "markdown",
   "metadata": {},
   "source": [
    "### Numpy \n",
    "\n",
    "Sin OpenBLAS"
   ]
  },
  {
   "cell_type": "code",
   "execution_count": 232,
   "metadata": {},
   "outputs": [
    {
     "data": {
      "text/html": [
       "<div>\n",
       "<style scoped>\n",
       "    .dataframe tbody tr th:only-of-type {\n",
       "        vertical-align: middle;\n",
       "    }\n",
       "\n",
       "    .dataframe tbody tr th {\n",
       "        vertical-align: top;\n",
       "    }\n",
       "\n",
       "    .dataframe thead th {\n",
       "        text-align: right;\n",
       "    }\n",
       "</style>\n",
       "<table border=\"1\" class=\"dataframe\">\n",
       "  <thead>\n",
       "    <tr style=\"text-align: right;\">\n",
       "      <th></th>\n",
       "      <th>BLAS</th>\n",
       "      <th>Tamaño</th>\n",
       "      <th>Operación</th>\n",
       "      <th>Iteraciones</th>\n",
       "      <th>Tiempo</th>\n",
       "    </tr>\n",
       "  </thead>\n",
       "  <tbody>\n",
       "    <tr>\n",
       "      <th>0</th>\n",
       "      <td>noblas</td>\n",
       "      <td>64.0</td>\n",
       "      <td>Producto Punto de Matrices</td>\n",
       "      <td>5.0</td>\n",
       "      <td>0.000162</td>\n",
       "    </tr>\n",
       "    <tr>\n",
       "      <th>1</th>\n",
       "      <td>noblas</td>\n",
       "      <td>128.0</td>\n",
       "      <td>Producto Punto de Matrices</td>\n",
       "      <td>5.0</td>\n",
       "      <td>0.001409</td>\n",
       "    </tr>\n",
       "    <tr>\n",
       "      <th>2</th>\n",
       "      <td>noblas</td>\n",
       "      <td>256.0</td>\n",
       "      <td>Producto Punto de Matrices</td>\n",
       "      <td>5.0</td>\n",
       "      <td>0.011780</td>\n",
       "    </tr>\n",
       "  </tbody>\n",
       "</table>\n",
       "</div>"
      ],
      "text/plain": [
       "     BLAS  Tamaño                   Operación  Iteraciones    Tiempo\n",
       "0  noblas    64.0  Producto Punto de Matrices          5.0  0.000162\n",
       "1  noblas   128.0  Producto Punto de Matrices          5.0  0.001409\n",
       "2  noblas   256.0  Producto Punto de Matrices          5.0  0.011780"
      ]
     },
     "execution_count": 232,
     "metadata": {},
     "output_type": "execute_result"
    }
   ],
   "source": [
    "df_noblas = pd.read_csv(\"compare.noblas.csv\")\n",
    "df_noblas.head(3)"
   ]
  },
  {
   "cell_type": "markdown",
   "metadata": {},
   "source": [
    "## Gráficas"
   ]
  },
  {
   "cell_type": "code",
   "execution_count": 235,
   "metadata": {},
   "outputs": [
    {
     "data": {
      "image/png": "[encoded data removed]",
      "text/plain": [
       "<matplotlib.figure.Figure at 0x7fd786589550>"
      ]
     },
     "metadata": {},
     "output_type": "display_data"
    }
   ],
   "source": [
    "%matplotlib inline\n",
    "from matplotlib import pyplot as plt\n",
    "\n",
    "fig, axs = plt.subplots(3, 2, sharex=False, sharey=False)\n",
    "fig.set_size_inches(12, 12)\n",
    "## Pruebas con MKL\n",
    "df2 = df[df.Operación == 'Producto Punto de Matrices']\n",
    "axs[0, 0].set_title(df2.Operación[0])\n",
    "axs[0, 0].plot(np.log(df2.Tamaño), np.log(df2.Tiempo), color=\"blue\", label=\"MKL\")\n",
    "df2 = df[df.Operación == 'Producto Punto de 2 Vectores']\n",
    "axs[0, 1].set_title(df2.iloc[0,2])\n",
    "axs[0, 1].plot(np.log(df2.Tamaño), np.log(df2.Tiempo), color=\"blue\", label=\"MKL\")\n",
    "df2 = df[df.Operación == 'SVD']\n",
    "axs[1, 0].set_title(df2.iloc[0,2])\n",
    "axs[1, 0].plot(np.log(df2.Tamaño), np.log(df2.Tiempo), color=\"blue\", label=\"MKL\")\n",
    "df2 = df[df.Operación == 'Cholesky']\n",
    "axs[1, 1].set_title(df2.iloc[0,2])\n",
    "axs[1, 1].plot(np.log(df2.Tamaño), np.log(df2.Tiempo), color=\"blue\", label=\"MKL\")\n",
    "df2 = df[df.Operación == 'Eigen']\n",
    "axs[2, 0].set_title(df2.iloc[0,2])\n",
    "axs[2, 0].plot(np.log(df2.Tamaño), np.log(df2.Tiempo), color=\"blue\", label=\"MKL\")\n",
    "# Etiquetas\n",
    "axs[0, 0].set_ylabel('log(Tiempo)')\n",
    "axs[1, 0].set_ylabel('log(Tiempo)')\n",
    "axs[2, 0].set_ylabel('log(Tiempo)')\n",
    "axs[2, 0].set_xlabel('log(Tamaño)')\n",
    "axs[2, 1].set_xlabel('log(Tamaño)')\n",
    "## Pruebas con OpenBLAS\n",
    "df_blas = pd.read_csv(\"compare.openblas.csv\")\n",
    "df2 = df_blas[df_blas.Operación == 'Producto Punto de Matrices']\n",
    "axs[0, 0].plot(np.log(df2.Tamaño), np.log(df2.Tiempo), color=\"red\", label=\"OpenBLAS\")\n",
    "df2 = df_blas[df_blas.Operación == 'Producto Punto de 2 Vectores']\n",
    "axs[0, 1].plot(np.log(df2.Tamaño), np.log(df2.Tiempo), color=\"red\", label=\"OpenBLAS\")\n",
    "df2 = df_blas[df_blas.Operación == 'SVD']\n",
    "axs[1, 0].plot(np.log(df2.Tamaño), np.log(df2.Tiempo), color=\"red\", label=\"OpenBLAS\")\n",
    "df2 = df_blas[df_blas.Operación == 'Cholesky']\n",
    "axs[1, 1].plot(np.log(df2.Tamaño), np.log(df2.Tiempo), color=\"red\", label=\"OpenBLAS\")\n",
    "df2 = df_blas[df_blas.Operación == 'Eigen']\n",
    "axs[2, 0].plot(np.log(df2.Tamaño), np.log(df2.Tiempo), color=\"red\", label=\"OpenBLAS\")\n",
    "## Pruebas con ATLAS\n",
    "df_atlas = pd.read_csv(\"compare.f77blas.csv\")\n",
    "df2 = df_atlas[df_atlas.Operación == 'Producto Punto de Matrices']\n",
    "axs[0, 0].plot(np.log(df2.Tamaño), np.log(df2.Tiempo), color=\"magenta\", label=\"ATLAS\")\n",
    "df2 = df_atlas[df_atlas.Operación == 'Producto Punto de 2 Vectores']\n",
    "axs[0, 1].plot(np.log(df2.Tamaño), np.log(df2.Tiempo), color=\"magenta\", label=\"ATLAS\")\n",
    "df2 = df_atlas[df_atlas.Operación == 'SVD']\n",
    "axs[1, 0].plot(np.log(df2.Tamaño), np.log(df2.Tiempo), color=\"magenta\", label=\"ATLAS\")\n",
    "df2 = df_atlas[df_atlas.Operación == 'Cholesky']\n",
    "axs[1, 1].plot(np.log(df2.Tamaño), np.log(df2.Tiempo), color=\"magenta\", label=\"ATLAS\")\n",
    "df2 = df_atlas[df_atlas.Operación == 'Eigen']\n",
    "axs[2, 0].plot(np.log(df2.Tamaño), np.log(df2.Tiempo), color=\"magenta\", label=\"ATLAS\")\n",
    "## Pruebas sin OpenBLAS\n",
    "df_noblas = pd.read_csv(\"compare.noblas.csv\")\n",
    "df2 = df_noblas[df_noblas.Operación == 'Producto Punto de Matrices']\n",
    "axs[0, 0].plot(np.log(df2.Tamaño), np.log(df2.Tiempo), color=\"black\", label=\"Sin BLAS\")\n",
    "df2 = df_noblas[df_noblas.Operación == 'Producto Punto de 2 Vectores']\n",
    "axs[0, 1].plot(np.log(df2.Tamaño), np.log(df2.Tiempo), color=\"black\", label=\"Sin BLAS\")\n",
    "df2 = df_noblas[df_noblas.Operación == 'SVD']\n",
    "axs[1, 0].plot(np.log(df2.Tamaño), np.log(df2.Tiempo), color=\"black\", label=\"Sin BLAS\")\n",
    "df2 = df_noblas[df_noblas.Operación == 'Cholesky']\n",
    "axs[1, 1].plot(np.log(df2.Tamaño), np.log(df2.Tiempo), color=\"black\", label=\"Sin BLAS\")\n",
    "df2 = df_noblas[df_noblas.Operación == 'Eigen']\n",
    "axs[2, 0].plot(np.log(df2.Tamaño), np.log(df2.Tiempo), color=\"black\", label=\"Sin BLAS\")\n",
    "fig.legend()\n",
    "plt.savefig(\"plot.png\")\n",
    "plt.show()"
   ]
  }
 ],
 "metadata": {
  "kernelspec": {
   "display_name": "Python 3",
   "language": "python",
   "name": "python3"
  },
  "language_info": {
   "codemirror_mode": {
    "name": "ipython",
    "version": 3
   },
   "file_extension": ".py",
   "mimetype": "text/x-python",
   "name": "python",
   "nbconvert_exporter": "python",
   "pygments_lexer": "ipython3",
   "version": "3.6.3"
  }
 },
 "nbformat": 4,
 "nbformat_minor": 2
}
