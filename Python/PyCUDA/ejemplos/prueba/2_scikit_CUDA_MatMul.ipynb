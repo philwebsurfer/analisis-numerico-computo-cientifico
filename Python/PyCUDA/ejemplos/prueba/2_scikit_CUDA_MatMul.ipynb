{
 "cells": [
  {
   "cell_type": "code",
   "execution_count": 1,
   "metadata": {},
   "outputs": [
    {
     "name": "stderr",
     "output_type": "stream",
     "text": [
      "/home/ubuntu/.virtualenvs/pycuda_ve/lib/python3.6/site-packages/skcuda/cublas.py:283: UserWarning: creating CUBLAS context to get version number\n",
      "  warnings.warn('creating CUBLAS context to get version number')\n"
     ]
    }
   ],
   "source": [
    "import pycuda.autoinit\n",
    "import pycuda.gpuarray as gpuarray\n",
    "import numpy as np\n",
    "import skcuda.linalg as culinalg\n"
   ]
  },
  {
   "cell_type": "code",
   "execution_count": 2,
   "metadata": {},
   "outputs": [],
   "source": [
    "culinalg.init()"
   ]
  },
  {
   "cell_type": "code",
   "execution_count": 3,
   "metadata": {},
   "outputs": [],
   "source": [
    "np.random.seed(0)"
   ]
  },
  {
   "cell_type": "code",
   "execution_count": 4,
   "metadata": {},
   "outputs": [],
   "source": [
    "datatype = np.float64"
   ]
  },
  {
   "cell_type": "code",
   "execution_count": 5,
   "metadata": {},
   "outputs": [],
   "source": [
    "m=10\n",
    "k=5\n",
    "n=5"
   ]
  },
  {
   "cell_type": "code",
   "execution_count": 6,
   "metadata": {},
   "outputs": [],
   "source": [
    "a = np.asarray(np.random.rand(m, k), datatype)\n",
    "b = np.asarray(np.random.rand(k, n), datatype)\n",
    "c = np.asarray(np.random.rand(n, n), datatype)"
   ]
  },
  {
   "cell_type": "code",
   "execution_count": 7,
   "metadata": {},
   "outputs": [
    {
     "name": "stdout",
     "output_type": "stream",
     "text": [
      "[[0.5488135  0.71518937 0.60276338 0.54488318 0.4236548 ]\n",
      " [0.64589411 0.43758721 0.891773   0.96366276 0.38344152]\n",
      " [0.79172504 0.52889492 0.56804456 0.92559664 0.07103606]\n",
      " [0.0871293  0.0202184  0.83261985 0.77815675 0.87001215]\n",
      " [0.97861834 0.79915856 0.46147936 0.78052918 0.11827443]\n",
      " [0.63992102 0.14335329 0.94466892 0.52184832 0.41466194]\n",
      " [0.26455561 0.77423369 0.45615033 0.56843395 0.0187898 ]\n",
      " [0.6176355  0.61209572 0.616934   0.94374808 0.6818203 ]\n",
      " [0.3595079  0.43703195 0.6976312  0.06022547 0.66676672]\n",
      " [0.67063787 0.21038256 0.1289263  0.31542835 0.36371077]]\n"
     ]
    }
   ],
   "source": [
    "print(a)"
   ]
  },
  {
   "cell_type": "code",
   "execution_count": 8,
   "metadata": {},
   "outputs": [
    {
     "name": "stdout",
     "output_type": "stream",
     "text": [
      "[[0.57019677 0.43860151 0.98837384 0.10204481 0.20887676]\n",
      " [0.16130952 0.65310833 0.2532916  0.46631077 0.24442559]\n",
      " [0.15896958 0.11037514 0.65632959 0.13818295 0.19658236]\n",
      " [0.36872517 0.82099323 0.09710128 0.83794491 0.09609841]\n",
      " [0.97645947 0.4686512  0.97676109 0.60484552 0.73926358]]\n"
     ]
    }
   ],
   "source": [
    "print(b)"
   ]
  },
  {
   "cell_type": "code",
   "execution_count": 9,
   "metadata": {},
   "outputs": [
    {
     "name": "stdout",
     "output_type": "stream",
     "text": [
      "[[0.03918779 0.28280696 0.12019656 0.2961402  0.11872772]\n",
      " [0.31798318 0.41426299 0.0641475  0.69247212 0.56660145]\n",
      " [0.26538949 0.52324805 0.09394051 0.5759465  0.9292962 ]\n",
      " [0.31856895 0.66741038 0.13179786 0.7163272  0.28940609]\n",
      " [0.18319136 0.58651293 0.02010755 0.82894003 0.00469548]]\n"
     ]
    }
   ],
   "source": [
    "print(c)"
   ]
  },
  {
   "cell_type": "code",
   "execution_count": 10,
   "metadata": {},
   "outputs": [],
   "source": [
    "a_gpu = gpuarray.to_gpu(a)\n",
    "b_gpu = gpuarray.to_gpu(b)\n",
    "c_gpu = gpuarray.to_gpu(c)"
   ]
  },
  {
   "cell_type": "code",
   "execution_count": 11,
   "metadata": {},
   "outputs": [],
   "source": [
    "ab_gpu = culinalg.dot(a_gpu, b_gpu)"
   ]
  },
  {
   "cell_type": "code",
   "execution_count": 12,
   "metadata": {},
   "outputs": [],
   "source": [
    "abc_gpu = culinalg.dot(ab_gpu, c_gpu)"
   ]
  },
  {
   "cell_type": "code",
   "execution_count": 13,
   "metadata": {},
   "outputs": [],
   "source": [
    "ab_gpu.gpudata.free()"
   ]
  },
  {
   "cell_type": "code",
   "execution_count": 14,
   "metadata": {},
   "outputs": [],
   "source": [
    "del(ab_gpu)"
   ]
  },
  {
   "cell_type": "code",
   "execution_count": 15,
   "metadata": {},
   "outputs": [
    {
     "data": {
      "text/plain": [
       "array([[1.43651736, 2.98517151, 0.54877081, 3.72456244, 2.76044292],\n",
       "       [1.65242367, 3.41390842, 0.63670503, 4.24456895, 3.17738347],\n",
       "       [1.40795162, 2.83146124, 0.53254437, 3.54515654, 2.7037258 ],\n",
       "       [1.42858651, 3.09067669, 0.57310134, 3.80521787, 2.667534  ],\n",
       "       [1.54880894, 3.12835541, 0.58454438, 3.92405367, 3.01490293],\n",
       "       [1.29082878, 2.74180016, 0.51061817, 3.37417168, 2.65848819],\n",
       "       [0.98070932, 1.93560849, 0.35270893, 2.44985382, 1.76396947],\n",
       "       [1.85948905, 3.88602922, 0.72228449, 4.83965422, 3.49428157],\n",
       "       [1.1432638 , 2.49964804, 0.45311794, 3.07940753, 2.32746611],\n",
       "       [0.9363571 , 1.98926336, 0.37529049, 2.46520452, 1.90239479]])"
      ]
     },
     "execution_count": 15,
     "metadata": {},
     "output_type": "execute_result"
    }
   ],
   "source": [
    "np.dot(np.dot(a, b), c)"
   ]
  },
  {
   "cell_type": "code",
   "execution_count": 16,
   "metadata": {},
   "outputs": [
    {
     "data": {
      "text/plain": [
       "array([[1.43651736, 2.98517151, 0.54877081, 3.72456244, 2.76044292],\n",
       "       [1.65242367, 3.41390842, 0.63670503, 4.24456895, 3.17738347],\n",
       "       [1.40795162, 2.83146124, 0.53254437, 3.54515654, 2.7037258 ],\n",
       "       [1.42858651, 3.09067669, 0.57310134, 3.80521787, 2.667534  ],\n",
       "       [1.54880894, 3.12835541, 0.58454438, 3.92405367, 3.01490293],\n",
       "       [1.29082878, 2.74180016, 0.51061817, 3.37417168, 2.65848819],\n",
       "       [0.98070932, 1.93560849, 0.35270893, 2.44985382, 1.76396947],\n",
       "       [1.85948905, 3.88602922, 0.72228449, 4.83965422, 3.49428157],\n",
       "       [1.1432638 , 2.49964804, 0.45311794, 3.07940753, 2.32746611],\n",
       "       [0.9363571 , 1.98926336, 0.37529049, 2.46520452, 1.90239479]])"
      ]
     },
     "execution_count": 16,
     "metadata": {},
     "output_type": "execute_result"
    }
   ],
   "source": [
    "abc_gpu.get()"
   ]
  },
  {
   "cell_type": "code",
   "execution_count": 17,
   "metadata": {},
   "outputs": [
    {
     "data": {
      "text/plain": [
       "True"
      ]
     },
     "execution_count": 17,
     "metadata": {},
     "output_type": "execute_result"
    }
   ],
   "source": [
    "np.allclose(np.dot(np.dot(a, b), c), abc_gpu.get())"
   ]
  },
  {
   "cell_type": "code",
   "execution_count": null,
   "metadata": {},
   "outputs": [],
   "source": []
  }
 ],
 "metadata": {
  "kernelspec": {
   "display_name": "Python 3",
   "language": "python",
   "name": "python3"
  },
  "language_info": {
   "codemirror_mode": {
    "name": "ipython",
    "version": 3
   },
   "file_extension": ".py",
   "mimetype": "text/x-python",
   "name": "python",
   "nbconvert_exporter": "python",
   "pygments_lexer": "ipython3",
   "version": "3.6.7"
  }
 },
 "nbformat": 4,
 "nbformat_minor": 2
}
