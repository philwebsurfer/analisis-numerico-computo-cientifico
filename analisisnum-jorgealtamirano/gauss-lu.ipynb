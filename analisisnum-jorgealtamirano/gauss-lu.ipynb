{
 "cells": [
  {
   "cell_type": "markdown",
   "metadata": {},
   "source": [
    "# Ejercicio clase 13 de Marzo, 2019_\n",
    "\n",
    "_Equipo 9_"
   ]
  },
  {
   "cell_type": "code",
   "execution_count": 1,
   "metadata": {},
   "outputs": [],
   "source": [
    "import numpy as np\n",
    "import scipy \n",
    "import scipy.linalg"
   ]
  },
  {
   "cell_type": "markdown",
   "metadata": {},
   "source": [
    "## Eliminación Gaussiana Simple"
   ]
  },
  {
   "cell_type": "code",
   "execution_count": 2,
   "metadata": {},
   "outputs": [
    {
     "name": "stdout",
     "output_type": "stream",
     "text": [
      "A = \n",
      " [[ 1  2  1  1]\n",
      " [ 2  2  3  1]\n",
      " [-1 -3  1  0]\n",
      " [-1 -3  0  1]] \n",
      " B = [0 3 2 4]\n"
     ]
    }
   ],
   "source": [
    "A = np.array([\n",
    "    [1,2,1,1],\n",
    "    [2,2,3,1],\n",
    "    [-1,-3,1,0],\n",
    "    [-1,-3,0,1]\n",
    "])\n",
    "B = np.array([0,3,2, 4])\n",
    "print(\"A = \\n\", A, \"\\n B =\", B)"
   ]
  },
  {
   "cell_type": "markdown",
   "metadata": {},
   "source": [
    "#### Resolución por Scipy"
   ]
  },
  {
   "cell_type": "code",
   "execution_count": 3,
   "metadata": {},
   "outputs": [
    {
     "data": {
      "text/plain": [
       "(array([[ 2.  ,  2.  ,  3.  ,  1.  ],\n",
       "        [-0.5 , -2.  ,  2.5 ,  0.5 ],\n",
       "        [-0.5 ,  1.  , -1.  ,  1.  ],\n",
       "        [ 0.5 , -0.5 , -0.75,  1.5 ]]), array([1, 2, 3, 3], dtype=int32))"
      ]
     },
     "execution_count": 3,
     "metadata": {},
     "output_type": "execute_result"
    }
   ],
   "source": [
    "A_ = scipy.linalg.lu_factor(A)\n",
    "A_"
   ]
  },
  {
   "cell_type": "code",
   "execution_count": 4,
   "metadata": {},
   "outputs": [
    {
     "data": {
      "text/plain": [
       "array([ 4.66666667, -2.5       , -0.83333333,  1.16666667])"
      ]
     },
     "execution_count": 4,
     "metadata": {},
     "output_type": "execute_result"
    }
   ],
   "source": [
    "scipy.linalg.lu_solve(A_, B)"
   ]
  },
  {
   "cell_type": "markdown",
   "metadata": {},
   "source": [
    "### Factorización por Algoritmo\n"
   ]
  },
  {
   "cell_type": "code",
   "execution_count": 5,
   "metadata": {},
   "outputs": [
    {
     "data": {
      "text/plain": [
       "array([[ 1,  2,  1,  1],\n",
       "       [ 2,  2,  3,  1],\n",
       "       [-1, -3,  1,  0],\n",
       "       [-1, -3,  0,  1]])"
      ]
     },
     "execution_count": 5,
     "metadata": {},
     "output_type": "execute_result"
    }
   ],
   "source": [
    "A"
   ]
  },
  {
   "cell_type": "code",
   "execution_count": 6,
   "metadata": {},
   "outputs": [
    {
     "name": "stdout",
     "output_type": "stream",
     "text": [
      "LU =\n",
      " [[ 1.          2.          1.          1.        ]\n",
      " [ 2.         -2.          1.         -1.        ]\n",
      " [-1.          0.5         1.5         1.5       ]\n",
      " [-1.          0.5         0.33333333  2.        ]]\n"
     ]
    }
   ],
   "source": [
    "def factor_lu(A):\n",
    "    N = A.shape[0]\n",
    "    if N != A.shape[1]:\n",
    "        raise Exception(\"Error: no es una matriz cuadrada\")\n",
    "\n",
    "    A_ = A.copy()\n",
    "    A_ = A.astype(np.double)    \n",
    "    for k in range(0, N-1):\n",
    "        A_[k+1:, k] = A_[k+1:, k] / A_[k, k]\n",
    "        A_[k+1:,k+1:] = A_[k+1:,k+1:] - np.outer(A_[k+1:, k],A_[k, k+1:])\n",
    "    return A_\n",
    "A_ = factor_lu(A)\n",
    "print(\"LU =\\n\", A_)\n"
   ]
  },
  {
   "cell_type": "code",
   "execution_count": 7,
   "metadata": {},
   "outputs": [
    {
     "name": "stdout",
     "output_type": "stream",
     "text": [
      "U =\n",
      " [[ 1.   2.   1.   1. ]\n",
      " [ 0.  -2.   1.  -1. ]\n",
      " [ 0.   0.   1.5  1.5]\n",
      " [ 0.   0.   0.   2. ]]\n"
     ]
    }
   ],
   "source": [
    "print(\"U =\\n\", np.triu(A_))"
   ]
  },
  {
   "cell_type": "code",
   "execution_count": 8,
   "metadata": {},
   "outputs": [
    {
     "name": "stdout",
     "output_type": "stream",
     "text": [
      "L =\n",
      " [[ 0.          0.          0.          0.        ]\n",
      " [ 2.          0.          0.          0.        ]\n",
      " [-1.          0.5         0.          0.        ]\n",
      " [-1.          0.5         0.33333333  0.        ]]\n"
     ]
    }
   ],
   "source": [
    "print(\"L =\\n\", np.tril(A_, -1))"
   ]
  },
  {
   "cell_type": "markdown",
   "metadata": {},
   "source": [
    "## Resolución LU"
   ]
  },
  {
   "cell_type": "code",
   "execution_count": 9,
   "metadata": {},
   "outputs": [
    {
     "data": {
      "text/plain": [
       "(2, 2)"
      ]
     },
     "execution_count": 9,
     "metadata": {},
     "output_type": "execute_result"
    }
   ],
   "source": [
    "np.matrix([[1,2],[2,2]], ).shape"
   ]
  },
  {
   "cell_type": "code",
   "execution_count": 22,
   "metadata": {},
   "outputs": [
    {
     "data": {
      "text/plain": [
       "array([[-8.],\n",
       "       [ 3.],\n",
       "       [ 3.],\n",
       "       [ 0.]])"
      ]
     },
     "execution_count": 22,
     "metadata": {},
     "output_type": "execute_result"
    }
   ],
   "source": [
    "def solve_LU(A, B):\n",
    "    N = A.shape[0]\n",
    "    if N != A.shape[1]:\n",
    "        raise Exception(\"Error: no es una matriz cuadrada\")\n",
    "    if len(B.shape) == 1:\n",
    "        M = 1\n",
    "    else:\n",
    "        M = B.shape[1]\n",
    "    B_ = B.copy()\n",
    "    L_ = np.tril(A, -1)\n",
    "    U_ = np.triu(A)\n",
    "    #Sustitución hacia adelante LD=B\n",
    "    D_ = np.zeros((N,M), dtype=np.double)\n",
    "    D_[0,] = B_[0]\n",
    "    for i in range(1, N):\n",
    "        D_[i,] = B_[i,] - np.dot(A[i, 0:i], D_[0:i, :])\n",
    "    #Sustitución hacia adelante UX=D\n",
    "    X_ = np.zeros((N,M))\n",
    "    X_[-1, :] = D_[-1,:]/U_[-1,-1]\n",
    "    for i in range(N-2, -1, -1):\n",
    "        X_[i,] = (D_[i,] - U_[i,(i+1):N]@X_[(i+1):N,]) / U_[i,i]\n",
    "    #Pivote (permutación)\n",
    "    P_ = np.eye(N)\n",
    "    return X_\n",
    "\n",
    "solve_LU(A_, B)"
   ]
  },
  {
   "cell_type": "markdown",
   "metadata": {},
   "source": [
    "## Cálculo de Tiempos\n",
    "\n",
    "### Resolución por Eliminación Gaussiana"
   ]
  },
  {
   "cell_type": "code",
   "execution_count": 11,
   "metadata": {},
   "outputs": [
    {
     "name": "stdout",
     "output_type": "stream",
     "text": [
      "Tamaño de A: (1000, 1000) Tamaño de B: (1000, 1)\n"
     ]
    }
   ],
   "source": [
    "np.random.seed(175904)\n",
    "A = np.random.randint(-5, 5, (1000, 1000))\n",
    "B = np.random.randint(-5, 5, (1000, 1))\n",
    "print(\"Tamaño de A:\", A.shape,\n",
    "      \"Tamaño de B:\", B.shape)"
   ]
  },
  {
   "cell_type": "markdown",
   "metadata": {},
   "source": [
    "### Usando Numpy"
   ]
  },
  {
   "cell_type": "code",
   "execution_count": 12,
   "metadata": {},
   "outputs": [
    {
     "name": "stdout",
     "output_type": "stream",
     "text": [
      "58.6 ms ± 9.37 ms per loop (mean ± std. dev. of 7 runs, 20 loops each)\n"
     ]
    }
   ],
   "source": [
    "%%timeit -n20\n",
    "np.linalg.solve(A, B)\n",
    "print"
   ]
  },
  {
   "cell_type": "markdown",
   "metadata": {},
   "source": [
    "### LU - Scipy\n",
    "#### Factorización"
   ]
  },
  {
   "cell_type": "code",
   "execution_count": 13,
   "metadata": {},
   "outputs": [
    {
     "name": "stdout",
     "output_type": "stream",
     "text": [
      "15.3 ms ± 2.37 ms per loop (mean ± std. dev. of 7 runs, 20 loops each)\n"
     ]
    }
   ],
   "source": [
    "%%timeit -n20\n",
    "L, U = scipy.linalg.lu_factor(A)"
   ]
  },
  {
   "cell_type": "markdown",
   "metadata": {},
   "source": [
    "#### Factorización y Resolución"
   ]
  },
  {
   "cell_type": "code",
   "execution_count": 14,
   "metadata": {},
   "outputs": [
    {
     "name": "stdout",
     "output_type": "stream",
     "text": [
      "13.9 ms ± 549 µs per loop (mean ± std. dev. of 7 runs, 20 loops each)\n"
     ]
    }
   ],
   "source": [
    "%%timeit -n20\n",
    "L, U = scipy.linalg.lu_factor(A)\n",
    "scipy.linalg.lu_solve((L, U), B)\n",
    "print"
   ]
  },
  {
   "cell_type": "markdown",
   "metadata": {},
   "source": [
    "### LU - Nuestros Algoritmos\n",
    "#### Factorización"
   ]
  },
  {
   "cell_type": "code",
   "execution_count": 23,
   "metadata": {},
   "outputs": [
    {
     "name": "stdout",
     "output_type": "stream",
     "text": [
      "1.04 s ± 34.1 ms per loop (mean ± std. dev. of 7 runs, 5 loops each)\n"
     ]
    }
   ],
   "source": [
    "%%timeit -n5\n",
    "A_ = factor_lu(A)"
   ]
  },
  {
   "cell_type": "markdown",
   "metadata": {},
   "source": [
    "#### Factorización y Resolución"
   ]
  },
  {
   "cell_type": "code",
   "execution_count": 24,
   "metadata": {},
   "outputs": [
    {
     "name": "stdout",
     "output_type": "stream",
     "text": [
      "266 µs ± 102 µs per loop (mean ± std. dev. of 7 runs, 5 loops each)\n"
     ]
    }
   ],
   "source": [
    "%%timeit -n5\n",
    "solve_LU(A_, B)"
   ]
  }
 ],
 "metadata": {
  "kernelspec": {
   "display_name": "Python 3",
   "language": "python",
   "name": "python3"
  },
  "language_info": {
   "codemirror_mode": {
    "name": "ipython",
    "version": 3
   },
   "file_extension": ".py",
   "mimetype": "text/x-python",
   "name": "python",
   "nbconvert_exporter": "python",
   "pygments_lexer": "ipython3",
   "version": "3.6.3"
  }
 },
 "nbformat": 4,
 "nbformat_minor": 2
}
