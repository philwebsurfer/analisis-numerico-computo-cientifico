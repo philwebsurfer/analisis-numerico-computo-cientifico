{
 "cells": [
  {
   "cell_type": "code",
   "execution_count": null,
   "metadata": {},
   "outputs": [],
   "source": [
    "#Código extraído de: https://documen.tician.de/pycuda/tutorial.html\n",
    "#4o ejemplo: https://documen.tician.de/pycuda/array.html#pycuda.gpuarray.GPUArray"
   ]
  },
  {
   "cell_type": "markdown",
   "metadata": {},
   "source": [
    "# GPUArray"
   ]
  },
  {
   "cell_type": "markdown",
   "metadata": {},
   "source": [
    "La clase GPUArray asocia un array de numpy con un array en el device, maneja transferencias entre el host y el device y expresa las operaciones de array's en la GPU con sintaxis de array's de numpy. (Ver: [numpy.ndarray](https://docs.scipy.org/doc/numpy/reference/generated/numpy.ndarray.html#numpy.ndarray))"
   ]
  },
  {
   "cell_type": "markdown",
   "metadata": {},
   "source": [
    "El módulo pycuda.autoinit realiza lo necesario para preparar a CUDA para lanzamiento de kernels a la GPU. Lo necesario se refiere a: initialization, context creation, and cleanup. Esto puede realizarse de forma manual si se desea en lugar de utilizar `pycuda.autoinit`. (Ver: [Notas del curso MNO](https://www.dropbox.com/s/yjijtfuky3s5dfz/2.5.Compute_Unified_Device_Architecture.pdf?dl=0) para revisar qué es un kernel.)"
   ]
  },
  {
   "cell_type": "markdown",
   "metadata": {},
   "source": [
    "Realizamos transferencias de numpy arrays alojados en el host (CPU) hacia el device (GPU) y deben utilizarse tipos de dato de numpy.\n",
    "Algo tan sencillo como:\n",
    "\n",
    "`value = 256`\n",
    "\n",
    "`va = numpy.int32(value)`\n",
    "\n",
    "debe usarse.\n",
    "Para esto existen diferentes métodos en PyCUDA proveídos por el módulo de pycuda.driver (por ejemplo `mem_alloc`, `memcpy_htod`, `memcpy_dth`) y la clase GPUArray."
   ]
  },
  {
   "cell_type": "code",
   "execution_count": 1,
   "metadata": {},
   "outputs": [],
   "source": [
    "import pycuda.gpuarray as gpuarray\n",
    "import pycuda.autoinit\n",
    "\n",
    "import numpy as np"
   ]
  },
  {
   "cell_type": "code",
   "execution_count": 2,
   "metadata": {},
   "outputs": [],
   "source": [
    "np.random.seed(0)"
   ]
  },
  {
   "cell_type": "code",
   "execution_count": 3,
   "metadata": {},
   "outputs": [],
   "source": [
    "a = np.random.randn(4,4)"
   ]
  },
  {
   "cell_type": "code",
   "execution_count": 4,
   "metadata": {},
   "outputs": [
    {
     "data": {
      "text/plain": [
       "dtype('float64')"
      ]
     },
     "execution_count": 4,
     "metadata": {},
     "output_type": "execute_result"
    }
   ],
   "source": [
    "a.dtype"
   ]
  },
  {
   "cell_type": "code",
   "execution_count": 5,
   "metadata": {},
   "outputs": [
    {
     "name": "stdout",
     "output_type": "stream",
     "text": [
      "[[ 1.76405235  0.40015721  0.97873798  2.2408932 ]\n",
      " [ 1.86755799 -0.97727788  0.95008842 -0.15135721]\n",
      " [-0.10321885  0.4105985   0.14404357  1.45427351]\n",
      " [ 0.76103773  0.12167502  0.44386323  0.33367433]]\n"
     ]
    }
   ],
   "source": [
    "print(a)"
   ]
  },
  {
   "cell_type": "code",
   "execution_count": 6,
   "metadata": {},
   "outputs": [
    {
     "data": {
      "text/plain": [
       "128"
      ]
     },
     "execution_count": 6,
     "metadata": {},
     "output_type": "execute_result"
    }
   ],
   "source": [
    "a.nbytes"
   ]
  },
  {
   "cell_type": "markdown",
   "metadata": {},
   "source": [
    "Se utiliza el método `to_gpu()` para instanciar la clase GPUArray y regresa una copia exacta (data_type, shape) del numpy.ndarray `a` y el método `get()` para almacenar la instancia de la clase GPUArray en un numpy.ndarray. Ver [diferencia entre get() y memcpy_dtoh()](https://stackoverflow.com/questions/20034808/difference-between-memcpy-htod-and-to-gpu-in-pycuda)"
   ]
  },
  {
   "cell_type": "code",
   "execution_count": 7,
   "metadata": {},
   "outputs": [],
   "source": [
    "a_gpu = gpuarray.to_gpu(a)\n",
    "a_doubled = (2*a_gpu).get()"
   ]
  },
  {
   "cell_type": "code",
   "execution_count": 8,
   "metadata": {},
   "outputs": [
    {
     "data": {
      "text/plain": [
       "dtype('float64')"
      ]
     },
     "execution_count": 8,
     "metadata": {},
     "output_type": "execute_result"
    }
   ],
   "source": [
    "a_gpu.dtype"
   ]
  },
  {
   "cell_type": "code",
   "execution_count": 9,
   "metadata": {},
   "outputs": [
    {
     "name": "stdout",
     "output_type": "stream",
     "text": [
      "[[ 1.76405235  0.40015721  0.97873798  2.2408932 ]\n",
      " [ 1.86755799 -0.97727788  0.95008842 -0.15135721]\n",
      " [-0.10321885  0.4105985   0.14404357  1.45427351]\n",
      " [ 0.76103773  0.12167502  0.44386323  0.33367433]]\n"
     ]
    }
   ],
   "source": [
    "print(a_gpu)"
   ]
  },
  {
   "cell_type": "code",
   "execution_count": 10,
   "metadata": {},
   "outputs": [
    {
     "data": {
      "text/plain": [
       "dtype('float64')"
      ]
     },
     "execution_count": 10,
     "metadata": {},
     "output_type": "execute_result"
    }
   ],
   "source": [
    "a_doubled.dtype"
   ]
  },
  {
   "cell_type": "code",
   "execution_count": 11,
   "metadata": {},
   "outputs": [
    {
     "name": "stdout",
     "output_type": "stream",
     "text": [
      "[[ 3.52810469  0.80031442  1.95747597  4.4817864 ]\n",
      " [ 3.73511598 -1.95455576  1.90017684 -0.30271442]\n",
      " [-0.2064377   0.821197    0.28808714  2.90854701]\n",
      " [ 1.52207545  0.24335003  0.88772647  0.66734865]]\n"
     ]
    }
   ],
   "source": [
    "print(a_doubled)"
   ]
  },
  {
   "cell_type": "markdown",
   "metadata": {},
   "source": [
    "Es posible utilizar element wise functions en las instancias de la clase GPUArray disponibles en el módulo [pycuda.math](https://documen.tician.de/pycuda/array.html#module-pycuda.cumath) para las funciones contenidas en [math](https://docs.python.org/3/library/math.html)"
   ]
  },
  {
   "cell_type": "code",
   "execution_count": 12,
   "metadata": {},
   "outputs": [],
   "source": [
    "from pycuda.cumath import floor as cufloor\n",
    "from pycuda.cumath import exp as cuexp"
   ]
  },
  {
   "cell_type": "code",
   "execution_count": 13,
   "metadata": {},
   "outputs": [
    {
     "data": {
      "text/plain": [
       "array([[ 3.,  0.,  1.,  4.],\n",
       "       [ 3., -2.,  1., -1.],\n",
       "       [-1.,  0.,  0.,  2.],\n",
       "       [ 1.,  0.,  0.,  0.]])"
      ]
     },
     "execution_count": 13,
     "metadata": {},
     "output_type": "execute_result"
    }
   ],
   "source": [
    "cufloor(2*a_gpu)"
   ]
  },
  {
   "cell_type": "code",
   "execution_count": 14,
   "metadata": {},
   "outputs": [
    {
     "data": {
      "text/plain": [
       "array([[5.83603919, 1.49205924, 2.66109578, 9.40172515],\n",
       "       [6.47247125, 0.37633413, 2.58593829, 0.85954061],\n",
       "       [0.90192956, 1.50771989, 1.15493443, 4.28137195],\n",
       "       [2.14049632, 1.12938701, 1.55871729, 1.3960884 ]])"
      ]
     },
     "execution_count": 14,
     "metadata": {},
     "output_type": "execute_result"
    }
   ],
   "source": [
    "cuexp(a_gpu)"
   ]
  },
  {
   "cell_type": "code",
   "execution_count": 15,
   "metadata": {},
   "outputs": [
    {
     "data": {
      "text/plain": [
       "array([[ 3.,  0.,  1.,  4.],\n",
       "       [ 3., -2.,  1., -1.],\n",
       "       [-1.,  0.,  0.,  2.],\n",
       "       [ 1.,  0.,  0.,  0.]])"
      ]
     },
     "execution_count": 15,
     "metadata": {},
     "output_type": "execute_result"
    }
   ],
   "source": [
    "np.floor(2*a)"
   ]
  },
  {
   "cell_type": "code",
   "execution_count": 16,
   "metadata": {},
   "outputs": [
    {
     "data": {
      "text/plain": [
       "array([[5.83603919, 1.49205924, 2.66109578, 9.40172515],\n",
       "       [6.47247125, 0.37633413, 2.58593829, 0.85954061],\n",
       "       [0.90192956, 1.50771989, 1.15493443, 4.28137195],\n",
       "       [2.14049632, 1.12938701, 1.55871729, 1.3960884 ]])"
      ]
     },
     "execution_count": 16,
     "metadata": {},
     "output_type": "execute_result"
    }
   ],
   "source": [
    "np.exp(a)"
   ]
  },
  {
   "cell_type": "code",
   "execution_count": null,
   "metadata": {},
   "outputs": [],
   "source": []
  }
 ],
 "metadata": {
  "kernelspec": {
   "display_name": "Python 3",
   "language": "python",
   "name": "python3"
  },
  "language_info": {
   "codemirror_mode": {
    "name": "ipython",
    "version": 3
   },
   "file_extension": ".py",
   "mimetype": "text/x-python",
   "name": "python",
   "nbconvert_exporter": "python",
   "pygments_lexer": "ipython3",
   "version": "3.6.7"
  }
 },
 "nbformat": 4,
 "nbformat_minor": 2
}
