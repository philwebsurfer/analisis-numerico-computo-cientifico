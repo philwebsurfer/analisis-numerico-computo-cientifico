{
 "cells": [
  {
   "cell_type": "markdown",
   "metadata": {},
   "source": [
    "# Ejercicio clase 06 de Marzo, 2019\n",
    "\n",
    "_Equipo 9_"
   ]
  },
  {
   "cell_type": "code",
   "execution_count": 1,
   "metadata": {},
   "outputs": [],
   "source": [
    "import numpy as np"
   ]
  },
  {
   "cell_type": "markdown",
   "metadata": {},
   "source": [
    "## Saxpy"
   ]
  },
  {
   "cell_type": "code",
   "execution_count": 2,
   "metadata": {},
   "outputs": [
    {
     "name": "stdout",
     "output_type": "stream",
     "text": [
      "[[3 0 0 0]\n",
      " [2 1 0 0]\n",
      " [1 5 1 0]\n",
      " [7 9 8 4]] [-9  6  2  9]\n"
     ]
    }
   ],
   "source": [
    "L = np.array([\n",
    "    [3,0,0,0],\n",
    "    [2,1,0,0],\n",
    "    [1,5,1,0],\n",
    "    [7,9,8,4]])\n",
    "B = np.array([ -9, 6, 2, 9 ])\n",
    "print(L,B)"
   ]
  },
  {
   "cell_type": "markdown",
   "metadata": {},
   "source": [
    "#### Resultado de Saxpy"
   ]
  },
  {
   "cell_type": "code",
   "execution_count": 3,
   "metadata": {},
   "outputs": [
    {
     "data": {
      "text/plain": [
       "array([[ -3. ],\n",
       "       [ 12. ],\n",
       "       [-55. ],\n",
       "       [ 90.5]])"
      ]
     },
     "execution_count": 3,
     "metadata": {},
     "output_type": "execute_result"
    }
   ],
   "source": [
    "def resolver_saxpy(L, B, bs=1):\n",
    "    N = B.shape[0]\n",
    "    if N != L.shape[1]:\n",
    "        raise Exception(\"Error: no es una matriz cuadrada\")\n",
    "    if not np.allclose(L, np.tril(L)):\n",
    "        raise Exception(\"Error: no es una matriz triangular inferior\")\n",
    "    if (N%bs) != 0:\n",
    "        raise Exception(\"Error: bloque tamaño %d no es factorizable entre el tamaño de la matriz (%s x %s)\"%(bs,N,N))\n",
    "    if bs == 1 and len(B.shape) > 1:\n",
    "        raise Exception(\"Error: bloque tamaño %d mayor a resolución univariada\"%(len(B.shape)))\n",
    "    elif bs > 1 and bs > B.shape[1]:\n",
    "        raise Exception(\"Error: bloque tamaño %d mayor al tamaño de B %d\"%(len(B.shape), bs))\n",
    "\n",
    "    X = np.zeros((N,bs))\n",
    "    B_ = B.copy()\n",
    "    L_ = L.copy()\n",
    "    N = N\n",
    "    if bs < 2: #detectar si es directa (sin bloques)\n",
    "        for i in range(0,N):\n",
    "            X[i] = (B_[i]/L[i,i])\n",
    "            for j in range((i+1), N):\n",
    "                B_[j] = B_[j] - L[j,i]*X[i]\n",
    "    if bs >= 2: #detectar si es por bloques\n",
    "        for i in range(0, N, bs):\n",
    "            X[i:i+bs, :] = np.linalg.solve(L_[i:i+bs, i:i+bs], B_[i:i+bs, :])\n",
    "            for j in range(i+bs, N, bs):\n",
    "                B_[j:j+bs, :] = B_[j:j+bs, :] - L_[j:j+bs, i:i+bs]@X[i:i+bs]\n",
    "    return X\n",
    "resolver_saxpy(L, B)"
   ]
  },
  {
   "cell_type": "markdown",
   "metadata": {},
   "source": [
    "#### Resolución por Numpy"
   ]
  },
  {
   "cell_type": "code",
   "execution_count": 4,
   "metadata": {},
   "outputs": [
    {
     "data": {
      "text/plain": [
       "array([ -3. ,  12. , -55. ,  90.5])"
      ]
     },
     "execution_count": 4,
     "metadata": {},
     "output_type": "execute_result"
    }
   ],
   "source": [
    "np.linalg.solve(L, B)"
   ]
  },
  {
   "cell_type": "markdown",
   "metadata": {},
   "source": [
    "### Ejercicio por Bloques"
   ]
  },
  {
   "cell_type": "code",
   "execution_count": 5,
   "metadata": {},
   "outputs": [
    {
     "data": {
      "text/plain": [
       "(array([[3, 0, 0, 0],\n",
       "        [2, 1, 0, 0],\n",
       "        [1, 5, 1, 0],\n",
       "        [7, 9, 8, 4]]), array([[-9, 12],\n",
       "        [ 6, -1],\n",
       "        [ 2,  0],\n",
       "        [ 5,  1]]))"
      ]
     },
     "execution_count": 5,
     "metadata": {},
     "output_type": "execute_result"
    }
   ],
   "source": [
    "L = np.array([\n",
    "    [3,0,0,0],\n",
    "    [2,1,0,0],\n",
    "    [1,5,1,0],\n",
    "    [7,9,8,4]    \n",
    "])\n",
    "B = np.array([\n",
    "    [-9,12],\n",
    "    [6,-1],\n",
    "    [2,0],\n",
    "    [5,1]\n",
    "])\n",
    "L, B"
   ]
  },
  {
   "cell_type": "markdown",
   "metadata": {},
   "source": [
    "#### Resultado de solver de Numpy"
   ]
  },
  {
   "cell_type": "code",
   "execution_count": 6,
   "metadata": {},
   "outputs": [
    {
     "data": {
      "text/plain": [
       "array([[ -3. ,   4. ],\n",
       "       [ 12. ,  -9. ],\n",
       "       [-55. ,  41. ],\n",
       "       [ 89.5, -68.5]])"
      ]
     },
     "execution_count": 6,
     "metadata": {},
     "output_type": "execute_result"
    }
   ],
   "source": [
    "np.linalg.solve(L,B)"
   ]
  },
  {
   "cell_type": "markdown",
   "metadata": {},
   "source": [
    "#### Resolución por Saxpy\n",
    "\n",
    "Nota: el algoritmo está en la función declarada al inicio. Utilizamos el argumento bs para marcar el tamaño de bloque"
   ]
  },
  {
   "cell_type": "code",
   "execution_count": 7,
   "metadata": {},
   "outputs": [
    {
     "data": {
      "text/plain": [
       "array([[ -3. ,   4. ],\n",
       "       [ 12. ,  -9. ],\n",
       "       [-55. ,  41. ],\n",
       "       [ 89.5, -68.5]])"
      ]
     },
     "execution_count": 7,
     "metadata": {},
     "output_type": "execute_result"
    }
   ],
   "source": [
    "resolver_saxpy(L, B, bs = 2)"
   ]
  },
  {
   "cell_type": "markdown",
   "metadata": {},
   "source": [
    "## Eliminación Gaussiana Simple"
   ]
  },
  {
   "cell_type": "code",
   "execution_count": 8,
   "metadata": {},
   "outputs": [
    {
     "name": "stdout",
     "output_type": "stream",
     "text": [
      "L = \n",
      " [[ 1  2  1]\n",
      " [ 2  2  3]\n",
      " [-1 -3  0]] \n",
      " B = [0 3 2]\n"
     ]
    }
   ],
   "source": [
    "L = np.array([\n",
    "    [1,2,1],\n",
    "    [2,2,3],\n",
    "    [-1,-3,0]\n",
    "])\n",
    "B = np.array([0,3,2])\n",
    "print(\"L = \\n\", L, \"\\n B =\", B)"
   ]
  },
  {
   "cell_type": "markdown",
   "metadata": {},
   "source": [
    "#### Resolución por Numpy"
   ]
  },
  {
   "cell_type": "code",
   "execution_count": 9,
   "metadata": {},
   "outputs": [
    {
     "data": {
      "text/plain": [
       "array([ 1., -1.,  1.])"
      ]
     },
     "execution_count": 9,
     "metadata": {},
     "output_type": "execute_result"
    }
   ],
   "source": [
    "np.linalg.solve(L, B)"
   ]
  },
  {
   "cell_type": "markdown",
   "metadata": {},
   "source": [
    "#### Resolución por Algoritmo\n",
    "\n",
    "Nota: No pudimos usar una multiplicación directa, por lo \n",
    "      cual consideramos que la lista comprehensiva \n",
    "      al ser ejecutada en paralelo es más ágil que un for tradicional.\n",
    "      \n",
    "   Nuestra intención era ejecutar el siguiente código:\n",
    "    \n",
    "        L_[i, i] = L_[i, i] - l_k*L_[k,i] #BLAS nivel 2"
   ]
  },
  {
   "cell_type": "code",
   "execution_count": 10,
   "metadata": {},
   "outputs": [
    {
     "data": {
      "text/plain": [
       "array([ 1., -1.,  1.])"
      ]
     },
     "execution_count": 10,
     "metadata": {},
     "output_type": "execute_result"
    }
   ],
   "source": [
    "def resolver_gauss(L, B):\n",
    "    N = B.shape[0]\n",
    "    if N != L.shape[1]:\n",
    "        raise Exception(\"Error: no es una matriz cuadrada\")\n",
    "\n",
    "    X = np.zeros((N))\n",
    "    B_ = B.astype(np.double)\n",
    "    L_ = L.astype(np.float)\n",
    "    N = N\n",
    "    \n",
    "    for k in range(0, N-1):\n",
    "        i = [m for m in range(k+1, N)]\n",
    "        l_k = L_[k, k] / L_[i,k]\n",
    "        # L_[i, i] = L_[i, i] - l_k*L_[k,i] #BLAS nivel 2\n",
    "        # no pudimos usar una multiplicación directa, por lo \n",
    "        # cual consideramos que la lista comprehensiva\n",
    "        # al ser ejecutada en paralelo es más ágil que un for tradicional.\n",
    "        L_[i,] = [L_[k, :] - l_k[j]*L_[k+j+1,:] for j in range(0, l_k.shape[0])]\n",
    "#         print(\"L =\\n\", L_)\n",
    "        B_[i] =  B_[k] - B_[i]*l_k \n",
    "#         print(\"B =\", B_, \"\\n\")\n",
    "        X = np.linalg.solve(L_, B_)\n",
    "    return X\n",
    "\n",
    "resolver_gauss(L, B)"
   ]
  }
 ],
 "metadata": {
  "kernelspec": {
   "display_name": "Python 3",
   "language": "python",
   "name": "python3"
  },
  "language_info": {
   "codemirror_mode": {
    "name": "ipython",
    "version": 3
   },
   "file_extension": ".py",
   "mimetype": "text/x-python",
   "name": "python",
   "nbconvert_exporter": "python",
   "pygments_lexer": "ipython3",
   "version": "3.6.3"
  }
 },
 "nbformat": 4,
 "nbformat_minor": 2
}
