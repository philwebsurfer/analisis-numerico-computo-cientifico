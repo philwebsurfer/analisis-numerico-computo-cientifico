{
 "cells": [
  {
   "cell_type": "markdown",
   "metadata": {
    "cell_style": "center"
   },
   "source": [
    "# Reducción de los loops the álgebra matricial\n",
    "\n",
    "Equipo 13 MNO\n",
    "\n",
    "* Laura López 144089\n",
    "\n",
    "* Dante Ruiz 183340\n",
    "\n",
    "* José Carlos Escobar 175895"
   ]
  },
  {
   "cell_type": "markdown",
   "metadata": {},
   "source": [
    "## Multiplicación de matrices"
   ]
  },
  {
   "cell_type": "markdown",
   "metadata": {},
   "source": [
    "Definimos nuestros datos iniciales:"
   ]
  },
  {
   "cell_type": "code",
   "execution_count": 35,
   "metadata": {},
   "outputs": [],
   "source": [
    "import numpy as np"
   ]
  },
  {
   "cell_type": "code",
   "execution_count": 86,
   "metadata": {},
   "outputs": [
    {
     "name": "stdout",
     "output_type": "stream",
     "text": [
      "[[0.18196845 0.66955123 0.03647085 0.28999154 0.10105255]\n",
      " [0.23209573 0.82820277 0.32554872 0.01195396 0.92070555]\n",
      " [0.7218137  0.76111196 0.63573522 0.07968588 0.98324765]\n",
      " [0.39622858 0.66383259 0.51706209 0.06157722 0.33788983]\n",
      " [0.84609893 0.22335651 0.09383501 0.91544502 0.98032132]\n",
      " [0.44973483 0.19672672 0.51642563 0.0088567  0.08664754]]\n"
     ]
    }
   ],
   "source": [
    "A = np.random.rand(6,5)\n",
    "print(A)"
   ]
  },
  {
   "cell_type": "code",
   "execution_count": 87,
   "metadata": {},
   "outputs": [
    {
     "name": "stdout",
     "output_type": "stream",
     "text": [
      "[[0.94287942 0.37852244 0.03231077 0.46416485 0.95204271 0.93652049]\n",
      " [0.93058291 0.30892748 0.99533548 0.36475209 0.27626976 0.83358469]\n",
      " [0.91327302 0.55803812 0.49832903 0.29414389 0.50739164 0.33346333]\n",
      " [0.79126367 0.76987143 0.69808079 0.01401811 0.95731922 0.8051149 ]\n",
      " [0.03985465 0.18279835 0.25657159 0.89898009 0.38295031 0.88016863]]\n"
     ]
    }
   ],
   "source": [
    "B = np.random.rand(5,6)\n",
    "print(B)"
   ]
  },
  {
   "cell_type": "code",
   "execution_count": 88,
   "metadata": {},
   "outputs": [
    {
     "name": "stdout",
     "output_type": "stream",
     "text": [
      "[[1.06144227 0.53780248 0.91884686 0.43432061 0.69303608 1.06312633]\n",
      " [1.33301762 0.7028831  1.23864088 1.33344106 0.97898135 1.83629857]\n",
      " [2.07170041 1.1041995  1.40559    1.68469245 1.67285623 2.452019  ]\n",
      " [1.52575619 0.75277014 1.06088443 0.88275978 1.01132046 1.44383488]\n",
      " [1.85474676 1.325608   1.18699067 1.39592229 2.16662753 2.60975259]\n",
      " [1.08921512 0.54185175 0.49610423 0.51042959 0.78620684 0.84077838]]\n"
     ]
    }
   ],
   "source": [
    "C = A.dot(B)\n",
    "print(C)"
   ]
  },
  {
   "cell_type": "code",
   "execution_count": 89,
   "metadata": {},
   "outputs": [
    {
     "name": "stdout",
     "output_type": "stream",
     "text": [
      "(6, 5)\n",
      "(5, 6)\n",
      "(6, 6)\n"
     ]
    }
   ],
   "source": [
    "print(A.shape)\n",
    "print(B.shape)\n",
    "print(C.shape)"
   ]
  },
  {
   "cell_type": "markdown",
   "metadata": {},
   "source": [
    "**Versión i,j,k**"
   ]
  },
  {
   "cell_type": "code",
   "execution_count": 95,
   "metadata": {},
   "outputs": [
    {
     "name": "stdout",
     "output_type": "stream",
     "text": [
      "[1.06144227 0.53780248 0.91884686 0.43432061 0.69303608 1.06312633]\n",
      "[1.33301762 0.7028831  1.23864088 1.33344106 0.97898135 1.83629857]\n",
      "[2.07170041 1.1041995  1.40559    1.68469245 1.67285623 2.452019  ]\n",
      "[1.52575619 0.75277014 1.06088443 0.88275978 1.01132046 1.44383488]\n",
      "[1.85474676 1.325608   1.18699067 1.39592229 2.16662753 2.60975259]\n",
      "[1.08921512 0.54185175 0.49610423 0.51042959 0.78620684 0.84077838]\n"
     ]
    }
   ],
   "source": [
    "# Multiplicar el primer renglón de a por la matriz de b\n",
    "num_renglones_de_A = A.shape[0]\n",
    "for i in range(0,num_renglones_de_A):\n",
    "    print(A[i].dot(B))"
   ]
  },
  {
   "cell_type": "markdown",
   "metadata": {},
   "source": [
    "**Versión k,i,j**"
   ]
  },
  {
   "cell_type": "code",
   "execution_count": 101,
   "metadata": {},
   "outputs": [
    {
     "name": "stdout",
     "output_type": "stream",
     "text": [
      "[[1.06144227 0.53780248 0.91884686 0.43432061 0.69303608 1.06312633]\n",
      " [1.33301762 0.7028831  1.23864088 1.33344106 0.97898135 1.83629857]\n",
      " [2.07170041 1.1041995  1.40559    1.68469245 1.67285623 2.452019  ]\n",
      " [1.52575619 0.75277014 1.06088443 0.88275978 1.01132046 1.44383488]\n",
      " [1.85474676 1.325608   1.18699067 1.39592229 2.16662753 2.60975259]\n",
      " [1.08921512 0.54185175 0.49610423 0.51042959 0.78620684 0.84077838]]\n"
     ]
    }
   ],
   "source": [
    "# Colummna i de A\n",
    "# Fila i de B\n",
    "D = np.zeros((6,6))\n",
    "for i in range(0,5):\n",
    "    D = D + np.outer(A[:,[i]],B[i])\n",
    "\n",
    "print(D)"
   ]
  },
  {
   "cell_type": "markdown",
   "metadata": {},
   "source": [
    "**Versión ikj**"
   ]
  },
  {
   "cell_type": "code",
   "execution_count": 102,
   "metadata": {},
   "outputs": [
    {
     "name": "stdout",
     "output_type": "stream",
     "text": [
      "[1.06144227 0.53780248 0.91884686 0.43432061 0.69303608 1.06312633]\n",
      "[1.33301762 0.7028831  1.23864088 1.33344106 0.97898135 1.83629857]\n",
      "[2.07170041 1.1041995  1.40559    1.68469245 1.67285623 2.452019  ]\n",
      "[1.52575619 0.75277014 1.06088443 0.88275978 1.01132046 1.44383488]\n",
      "[1.85474676 1.325608   1.18699067 1.39592229 2.16662753 2.60975259]\n",
      "[1.08921512 0.54185175 0.49610423 0.51042959 0.78620684 0.84077838]\n"
     ]
    }
   ],
   "source": [
    "# Multiplicar el primer renglón de a por la matriz de b\n",
    "num_renglones_de_A = A.shape[0]\n",
    "for i in range(0,num_renglones_de_A):\n",
    "    print(A[i].dot(B))"
   ]
  },
  {
   "cell_type": "markdown",
   "metadata": {},
   "source": [
    "## Método de sustitución hacia atras"
   ]
  },
  {
   "cell_type": "markdown",
   "metadata": {},
   "source": [
    "Definimos el sistema de ecuaciones de 4 x 4"
   ]
  },
  {
   "cell_type": "code",
   "execution_count": 140,
   "metadata": {},
   "outputs": [
    {
     "name": "stdout",
     "output_type": "stream",
     "text": [
      "[[ 4 -1  2  3]\n",
      " [ 0 -2  7 -4]\n",
      " [ 0  0  6  5]\n",
      " [ 0  0  0  3]]\n"
     ]
    }
   ],
   "source": [
    "E = np.array([[4,-1,2,3],[0,-2,7,-4],[0,0,6,5],[0,0,0,3]])\n",
    "print(E)"
   ]
  },
  {
   "cell_type": "code",
   "execution_count": 139,
   "metadata": {},
   "outputs": [
    {
     "name": "stdout",
     "output_type": "stream",
     "text": [
      "[[20]\n",
      " [-7]\n",
      " [ 4]\n",
      " [ 6]]\n"
     ]
    }
   ],
   "source": [
    "b = np.array([[20],[-7],[4],[6]])\n",
    "print(b)"
   ]
  },
  {
   "cell_type": "markdown",
   "metadata": {},
   "source": [
    "Checamos que la diagonal sea diferente de cero"
   ]
  },
  {
   "cell_type": "code",
   "execution_count": 132,
   "metadata": {},
   "outputs": [
    {
     "data": {
      "text/plain": [
       "4"
      ]
     },
     "execution_count": 132,
     "metadata": {},
     "output_type": "execute_result"
    }
   ],
   "source": [
    "np.sum(np.diag(E) != 0)"
   ]
  },
  {
   "cell_type": "markdown",
   "metadata": {},
   "source": [
    "Ejecutamos el algorítmo"
   ]
  },
  {
   "cell_type": "code",
   "execution_count": 198,
   "metadata": {},
   "outputs": [
    {
     "name": "stdout",
     "output_type": "stream",
     "text": [
      "[[ 3.]\n",
      " [-4.]\n",
      " [-1.]\n",
      " [ 2.]]\n"
     ]
    }
   ],
   "source": [
    "# Inicializamos un vector de ceros de 4x1 donde ponemos las respuestas\n",
    "x = np.zeros((4,1))\n",
    "\n",
    "# Calculamos x_n\n",
    "x[3] = b[3] / E[3][3]\n",
    "# Calculamos x_n_1 hasta 1\n",
    "n = 4\n",
    "for i in range(n-1,-1,-1):\n",
    "     x[i] = ( b[i] - E[i,(i+1):n].dot(x[(i+1):n]) ) / E[i,i]\n",
    "\n",
    "print(x)"
   ]
  },
  {
   "cell_type": "markdown",
   "metadata": {},
   "source": [
    "Verificamos que la respuesta este bien con la función de python."
   ]
  },
  {
   "cell_type": "code",
   "execution_count": 183,
   "metadata": {},
   "outputs": [
    {
     "data": {
      "text/plain": [
       "array([[ 3.],\n",
       "       [-4.],\n",
       "       [-1.],\n",
       "       [ 2.]])"
      ]
     },
     "execution_count": 183,
     "metadata": {},
     "output_type": "execute_result"
    }
   ],
   "source": [
    "np.linalg.solve(E,b)"
   ]
  },
  {
   "cell_type": "code",
   "execution_count": null,
   "metadata": {},
   "outputs": [],
   "source": []
  }
 ],
 "metadata": {
  "kernelspec": {
   "display_name": "Python 3",
   "language": "python",
   "name": "python3"
  },
  "language_info": {
   "codemirror_mode": {
    "name": "ipython",
    "version": 3
   },
   "file_extension": ".py",
   "mimetype": "text/x-python",
   "name": "python",
   "nbconvert_exporter": "python",
   "pygments_lexer": "ipython3",
   "version": "3.7.1"
  },
  "toc": {
   "base_numbering": 1,
   "nav_menu": {},
   "number_sections": true,
   "sideBar": true,
   "skip_h1_title": false,
   "title_cell": "Table of Contents",
   "title_sidebar": "Contents",
   "toc_cell": false,
   "toc_position": {},
   "toc_section_display": true,
   "toc_window_display": false
  }
 },
 "nbformat": 4,
 "nbformat_minor": 2
}
