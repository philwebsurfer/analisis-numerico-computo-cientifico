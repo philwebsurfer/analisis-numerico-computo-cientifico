{
 "cells": [
  {
   "cell_type": "markdown",
   "metadata": {},
   "source": [
    "# Ejercicio clase 20 de Marzo, 2019\n",
    "\n",
    "## Gaxpy\n",
    "\n",
    "_Equipo 9_"
   ]
  },
  {
   "cell_type": "code",
   "execution_count": 1,
   "metadata": {},
   "outputs": [],
   "source": [
    "import numpy as np"
   ]
  },
  {
   "cell_type": "code",
   "execution_count": 2,
   "metadata": {},
   "outputs": [
    {
     "name": "stdout",
     "output_type": "stream",
     "text": [
      "[[3 1 1 1]\n",
      " [2 1 1 1]\n",
      " [1 5 1 1]\n",
      " [7 9 8 4]] [-9  6  2  9]\n"
     ]
    }
   ],
   "source": [
    "A = np.array([\n",
    "    [3,1,1,1],\n",
    "    [2,1,1,1],\n",
    "    [1,5,1,1],\n",
    "    [7,9,8,4]])\n",
    "B = np.array([ -9, 6, 2, 9 ])\n",
    "print(A,B)"
   ]
  },
  {
   "cell_type": "markdown",
   "metadata": {},
   "source": [
    "#### Resultado de Gaxpy"
   ]
  },
  {
   "cell_type": "code",
   "execution_count": 3,
   "metadata": {},
   "outputs": [
    {
     "data": {
      "text/plain": [
       "(array([[ 1.        ,  0.        ,  0.        ,  0.        ],\n",
       "        [ 0.66666667,  1.        ,  0.        ,  0.        ],\n",
       "        [ 0.33333333, 14.        ,  1.        ,  0.        ],\n",
       "        [ 2.33333333, 20.        ,  0.25      ,  1.        ]]),\n",
       " array([[ 3.        ,  1.        ,  1.        ,  1.        ],\n",
       "        [ 0.        ,  0.33333333,  0.33333333,  0.33333333],\n",
       "        [ 0.        ,  0.        , -4.        , -4.        ],\n",
       "        [ 0.        ,  0.        ,  0.        , -4.        ]]))"
      ]
     },
     "execution_count": 3,
     "metadata": {},
     "output_type": "execute_result"
    }
   ],
   "source": [
    "def resolver_gaxpy(A, B):\n",
    "    N = B.shape[0]\n",
    "    if N != A.shape[1]:\n",
    "        raise Exception(\"Error: no es una matriz cuadrada\")\n",
    "#     if not np.allclose(L, np.tril(L)):\n",
    "#         raise Exception(\"Error: no es una matriz triangular inferior\")\n",
    "\n",
    "    X = np.zeros((N,1))\n",
    "    B_ = B.copy().astype(np.double)\n",
    "    A_ = A.copy().astype(np.double)\n",
    "    L_ = np.eye(N)\n",
    "    U_ = np.zeros((N,N))\n",
    "    V_ = np.zeros(N)\n",
    "    for i in range(0,N):\n",
    "        if i == 0:\n",
    "            V_ = A_[:, 0]\n",
    "        else:\n",
    "            â = A_[:,i]\n",
    "            z = np.linalg.solve(L_[0:i, 0:i], â[0:i])\n",
    "            U_[0:i,i] = z\n",
    "            V_[i:N] = â[i:N] - np.dot(L_[i:N, 0:i],z)\n",
    "        U_[i,i] = V_[i]\n",
    "        L_[(i+1):N,i] = V_[(i+1):N]/V_[i]\n",
    "\n",
    "    return L_, U_\n",
    "(L,U) = resolver_gaxpy(A, B)\n",
    "L, U"
   ]
  },
  {
   "cell_type": "markdown",
   "metadata": {},
   "source": [
    "Dado que\n",
    "$$\n",
    "A = LU\n",
    "$$"
   ]
  },
  {
   "cell_type": "code",
   "execution_count": 4,
   "metadata": {},
   "outputs": [
    {
     "data": {
      "text/plain": [
       "array([[3., 1., 1., 1.],\n",
       "       [2., 1., 1., 1.],\n",
       "       [1., 5., 1., 1.],\n",
       "       [7., 9., 8., 4.]])"
      ]
     },
     "execution_count": 4,
     "metadata": {},
     "output_type": "execute_result"
    }
   ],
   "source": [
    "L@U"
   ]
  },
  {
   "cell_type": "code",
   "execution_count": 5,
   "metadata": {},
   "outputs": [
    {
     "data": {
      "text/plain": [
       "array([[3, 1, 1, 1],\n",
       "       [2, 1, 1, 1],\n",
       "       [1, 5, 1, 1],\n",
       "       [7, 9, 8, 4]])"
      ]
     },
     "execution_count": 5,
     "metadata": {},
     "output_type": "execute_result"
    }
   ],
   "source": [
    "A"
   ]
  }
 ],
 "metadata": {
  "kernelspec": {
   "display_name": "Python 3",
   "language": "python",
   "name": "python3"
  },
  "language_info": {
   "codemirror_mode": {
    "name": "ipython",
    "version": 3
   },
   "file_extension": ".py",
   "mimetype": "text/x-python",
   "name": "python",
   "nbconvert_exporter": "python",
   "pygments_lexer": "ipython3",
   "version": "3.6.3"
  }
 },
 "nbformat": 4,
 "nbformat_minor": 2
}
