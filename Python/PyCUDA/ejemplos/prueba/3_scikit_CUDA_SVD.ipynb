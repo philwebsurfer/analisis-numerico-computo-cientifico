{
 "cells": [
  {
   "cell_type": "code",
   "execution_count": 1,
   "metadata": {},
   "outputs": [
    {
     "name": "stderr",
     "output_type": "stream",
     "text": [
      "/home/ubuntu/.virtualenvs/pycuda_ve/lib/python3.6/site-packages/skcuda/cublas.py:283: UserWarning: creating CUBLAS context to get version number\n",
      "  warnings.warn('creating CUBLAS context to get version number')\n"
     ]
    }
   ],
   "source": [
    "import pycuda.autoinit\n",
    "import pycuda.gpuarray as gpuarray\n",
    "import numpy as np\n",
    "import skcuda.linalg as culinalg"
   ]
  },
  {
   "cell_type": "code",
   "execution_count": 2,
   "metadata": {},
   "outputs": [],
   "source": [
    "culinalg.init()"
   ]
  },
  {
   "cell_type": "code",
   "execution_count": 3,
   "metadata": {},
   "outputs": [],
   "source": [
    "np.random.seed(0)"
   ]
  },
  {
   "cell_type": "code",
   "execution_count": 4,
   "metadata": {},
   "outputs": [],
   "source": [
    "datatype = np.float64"
   ]
  },
  {
   "cell_type": "code",
   "execution_count": 5,
   "metadata": {},
   "outputs": [],
   "source": [
    "m=50\n",
    "n=50"
   ]
  },
  {
   "cell_type": "code",
   "execution_count": 6,
   "metadata": {},
   "outputs": [],
   "source": [
    "a = np.asarray(np.random.rand(m,n), datatype)"
   ]
  },
  {
   "cell_type": "code",
   "execution_count": 7,
   "metadata": {},
   "outputs": [
    {
     "name": "stdout",
     "output_type": "stream",
     "text": [
      "[[0.5488135  0.71518937 0.60276338 ... 0.1289263  0.31542835 0.36371077]\n",
      " [0.57019677 0.43860151 0.98837384 ... 0.02010755 0.82894003 0.00469548]\n",
      " [0.67781654 0.27000797 0.73519402 ... 0.91948261 0.7142413  0.99884701]\n",
      " ...\n",
      " [0.0698143  0.22649128 0.48110196 ... 0.43584121 0.73859222 0.52658426]\n",
      " [0.88668322 0.8309088  0.03160544 ... 0.55957053 0.5846446  0.09127072]\n",
      " [0.60047104 0.38152221 0.86758085 ... 0.72433098 0.19157101 0.66217423]]\n"
     ]
    }
   ],
   "source": [
    "print(a)"
   ]
  },
  {
   "cell_type": "code",
   "execution_count": 8,
   "metadata": {},
   "outputs": [],
   "source": [
    "a_gpu = gpuarray.to_gpu(a)"
   ]
  },
  {
   "cell_type": "code",
   "execution_count": 9,
   "metadata": {},
   "outputs": [],
   "source": [
    "u_gpu, s_gpu, v_gpu = culinalg.svd(a_gpu)"
   ]
  },
  {
   "cell_type": "code",
   "execution_count": 10,
   "metadata": {},
   "outputs": [],
   "source": [
    "a_rec = np.dot(u_gpu.get(), np.dot(np.diag(s_gpu.get()), v_gpu.get()))"
   ]
  },
  {
   "cell_type": "code",
   "execution_count": 11,
   "metadata": {},
   "outputs": [
    {
     "data": {
      "text/plain": [
       "1.915426312164951e-11"
      ]
     },
     "execution_count": 11,
     "metadata": {},
     "output_type": "execute_result"
    }
   ],
   "source": [
    "#Error relativo:\n",
    "np.max(np.abs(a - a_rec)/np.abs(a))"
   ]
  },
  {
   "cell_type": "code",
   "execution_count": 12,
   "metadata": {},
   "outputs": [],
   "source": [
    "import time"
   ]
  },
  {
   "cell_type": "code",
   "execution_count": 13,
   "metadata": {},
   "outputs": [],
   "source": [
    "m = 1000\n",
    "n = 1000"
   ]
  },
  {
   "cell_type": "code",
   "execution_count": 14,
   "metadata": {},
   "outputs": [],
   "source": [
    "np.random.seed(0)"
   ]
  },
  {
   "cell_type": "code",
   "execution_count": 15,
   "metadata": {},
   "outputs": [],
   "source": [
    "datatype = np.float64"
   ]
  },
  {
   "cell_type": "code",
   "execution_count": 16,
   "metadata": {},
   "outputs": [],
   "source": [
    "a = np.asarray(np.random.rand(m, n), datatype)"
   ]
  },
  {
   "cell_type": "code",
   "execution_count": 17,
   "metadata": {},
   "outputs": [],
   "source": [
    "inicio_tiempo = time.time()\n",
    "a_gpu = gpuarray.to_gpu(a)\n",
    "fin_load = time.time()"
   ]
  },
  {
   "cell_type": "code",
   "execution_count": 18,
   "metadata": {},
   "outputs": [
    {
     "name": "stdout",
     "output_type": "stream",
     "text": [
      "tiempo para cargar datos en la GPU: 0.002044677734375\n"
     ]
    }
   ],
   "source": [
    "print('tiempo para cargar datos en la GPU:', fin_load - inicio_tiempo)"
   ]
  },
  {
   "cell_type": "code",
   "execution_count": 19,
   "metadata": {},
   "outputs": [],
   "source": [
    "gpu_svd_inicio = time.time()\n",
    "u_gpu, s_gpu, v_gpu = culinalg.svd(a_gpu)\n",
    "gpu_svd_fin = time.time()"
   ]
  },
  {
   "cell_type": "code",
   "execution_count": 20,
   "metadata": {},
   "outputs": [],
   "source": [
    "load_datos_inicio = time.time()\n",
    "u_gpu_result, s_gpu_result, v_gpu_result = u_gpu.get(), s_gpu.get(), v_gpu.get()\n",
    "load_datos_fin = time.time()"
   ]
  },
  {
   "cell_type": "code",
   "execution_count": 21,
   "metadata": {},
   "outputs": [
    {
     "name": "stdout",
     "output_type": "stream",
     "text": [
      "tiempo para realizar cargar resultados del device al host: 0.011386871337890625 sec\n"
     ]
    }
   ],
   "source": [
    "print('tiempo para realizar cargar resultados del device al host:',\n",
    "      load_datos_fin-load_datos_inicio, 'sec')"
   ]
  },
  {
   "cell_type": "code",
   "execution_count": 22,
   "metadata": {},
   "outputs": [
    {
     "name": "stdout",
     "output_type": "stream",
     "text": [
      "tiempo para realizar la SVD de una matriz en la GPU: 4.568828582763672 sec\n"
     ]
    }
   ],
   "source": [
    "print('tiempo para realizar la SVD de una matriz en la GPU:',\n",
    "      gpu_svd_fin-gpu_svd_inicio, 'sec')"
   ]
  },
  {
   "cell_type": "code",
   "execution_count": 23,
   "metadata": {},
   "outputs": [
    {
     "name": "stdout",
     "output_type": "stream",
     "text": [
      "Total (incluyendo load host-device, device-host): 4.610806226730347 sec\n"
     ]
    }
   ],
   "source": [
    "print('Total (incluyendo load host-device, device-host):', load_datos_fin - inicio_tiempo, 'sec')"
   ]
  },
  {
   "cell_type": "code",
   "execution_count": 24,
   "metadata": {},
   "outputs": [],
   "source": [
    "cpu_svd_inicio = time.time()\n",
    "u, s, v = np.linalg.svd(a)\n",
    "cpu_svd_fin = time.time()"
   ]
  },
  {
   "cell_type": "code",
   "execution_count": 25,
   "metadata": {},
   "outputs": [
    {
     "name": "stdout",
     "output_type": "stream",
     "text": [
      "tiempo para realizar la SVD de una matriz en la GPU: 0.569695234298706 sec\n"
     ]
    }
   ],
   "source": [
    "print('tiempo para realizar la SVD de una matriz en la GPU:',\n",
    "      cpu_svd_fin-cpu_svd_inicio, 'sec')"
   ]
  },
  {
   "cell_type": "code",
   "execution_count": null,
   "metadata": {},
   "outputs": [],
   "source": []
  }
 ],
 "metadata": {
  "kernelspec": {
   "display_name": "Python 3",
   "language": "python",
   "name": "python3"
  },
  "language_info": {
   "codemirror_mode": {
    "name": "ipython",
    "version": 3
   },
   "file_extension": ".py",
   "mimetype": "text/x-python",
   "name": "python",
   "nbconvert_exporter": "python",
   "pygments_lexer": "ipython3",
   "version": "3.6.7"
  }
 },
 "nbformat": 4,
 "nbformat_minor": 2
}
